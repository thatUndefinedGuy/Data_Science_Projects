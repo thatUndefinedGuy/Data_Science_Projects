{
 "cells": [
  {
   "cell_type": "code",
   "execution_count": 1,
   "id": "a756b93a",
   "metadata": {
    "execution": {
     "iopub.execute_input": "2024-04-26T00:55:10.292268Z",
     "iopub.status.busy": "2024-04-26T00:55:10.291799Z",
     "iopub.status.idle": "2024-04-26T00:55:13.069272Z",
     "shell.execute_reply": "2024-04-26T00:55:13.067931Z"
    },
    "papermill": {
     "duration": 2.787717,
     "end_time": "2024-04-26T00:55:13.072384",
     "exception": false,
     "start_time": "2024-04-26T00:55:10.284667",
     "status": "completed"
    },
    "tags": []
   },
   "outputs": [],
   "source": [
    "import pandas as pd\n",
    "import numpy as np\n",
    "import seaborn as sns\n",
    "import matplotlib\n",
    "import matplotlib.pyplot as py\n",
    "from matplotlib.pyplot import imshow"
   ]
  },
  {
   "cell_type": "code",
   "execution_count": 2,
   "id": "dfe8ea63",
   "metadata": {
    "execution": {
     "iopub.execute_input": "2024-04-26T00:55:13.084149Z",
     "iopub.status.busy": "2024-04-26T00:55:13.083623Z",
     "iopub.status.idle": "2024-04-26T00:55:14.229920Z",
     "shell.execute_reply": "2024-04-26T00:55:14.228647Z"
    },
    "papermill": {
     "duration": 1.15563,
     "end_time": "2024-04-26T00:55:14.233124",
     "exception": false,
     "start_time": "2024-04-26T00:55:13.077494",
     "status": "completed"
    },
    "tags": []
   },
   "outputs": [],
   "source": [
    "data = pd.read_csv(\"/kaggle/input/handdrawnnumbers/0to9classification.csv\")\n",
    "tempdataX = data.iloc[:,1:data.shape[1]-1].transpose()\n",
    "tempdatay = np.array(data.iloc[:,data.shape[1]-1])\n",
    "datay = []\n",
    "for i in tempdatay:\n",
    "    datay.append(np.array([i]))\n",
    "datay = np.array(datay)\n",
    "dataX = []\n",
    "for i in tempdataX:\n",
    "    dataX.append(np.array(tempdataX[i]))\n",
    "dataX = np.array(dataX)"
   ]
  },
  {
   "cell_type": "code",
   "execution_count": 3,
   "id": "572cad86",
   "metadata": {
    "execution": {
     "iopub.execute_input": "2024-04-26T00:55:14.245605Z",
     "iopub.status.busy": "2024-04-26T00:55:14.245202Z",
     "iopub.status.idle": "2024-04-26T00:55:14.613519Z",
     "shell.execute_reply": "2024-04-26T00:55:14.612267Z"
    },
    "papermill": {
     "duration": 0.377344,
     "end_time": "2024-04-26T00:55:14.616179",
     "exception": false,
     "start_time": "2024-04-26T00:55:14.238835",
     "status": "completed"
    },
    "tags": []
   },
   "outputs": [
    {
     "data": {
      "text/plain": [
       "<matplotlib.image.AxesImage at 0x7ada0c0cc160>"
      ]
     },
     "execution_count": 3,
     "metadata": {},
     "output_type": "execute_result"
    },
    {
     "data": {
      "image/png": "[encoded data removed]",
      "text/plain": [
       "<Figure size 640x480 with 1 Axes>"
      ]
     },
     "metadata": {},
     "output_type": "display_data"
    }
   ],
   "source": [
    "pic = np.array(dataX[3500]).reshape(20,20)\n",
    "pic = np.rot90(pic,1)[::-1]\n",
    "matplotlib.pyplot.imshow(pic,\"gray\")"
   ]
  },
  {
   "cell_type": "code",
   "execution_count": 4,
   "id": "806164d0",
   "metadata": {
    "execution": {
     "iopub.execute_input": "2024-04-26T00:55:14.629208Z",
     "iopub.status.busy": "2024-04-26T00:55:14.628432Z",
     "iopub.status.idle": "2024-04-26T00:55:30.270925Z",
     "shell.execute_reply": "2024-04-26T00:55:30.269595Z"
    },
    "papermill": {
     "duration": 15.6526,
     "end_time": "2024-04-26T00:55:30.273963",
     "exception": false,
     "start_time": "2024-04-26T00:55:14.621363",
     "status": "completed"
    },
    "tags": []
   },
   "outputs": [
    {
     "name": "stderr",
     "output_type": "stream",
     "text": [
      "2024-04-26 00:55:17.442608: E external/local_xla/xla/stream_executor/cuda/cuda_dnn.cc:9261] Unable to register cuDNN factory: Attempting to register factory for plugin cuDNN when one has already been registered\n",
      "2024-04-26 00:55:17.442785: E external/local_xla/xla/stream_executor/cuda/cuda_fft.cc:607] Unable to register cuFFT factory: Attempting to register factory for plugin cuFFT when one has already been registered\n",
      "2024-04-26 00:55:17.646303: E external/local_xla/xla/stream_executor/cuda/cuda_blas.cc:1515] Unable to register cuBLAS factory: Attempting to register factory for plugin cuBLAS when one has already been registered\n"
     ]
    }
   ],
   "source": [
    "import tensorflow\n",
    "from tensorflow.keras.models import Sequential\n",
    "from tensorflow.keras.layers import Dense\n"
   ]
  },
  {
   "cell_type": "code",
   "execution_count": 5,
   "id": "e8ba4151",
   "metadata": {
    "execution": {
     "iopub.execute_input": "2024-04-26T00:55:30.287579Z",
     "iopub.status.busy": "2024-04-26T00:55:30.286777Z",
     "iopub.status.idle": "2024-04-26T00:55:30.383821Z",
     "shell.execute_reply": "2024-04-26T00:55:30.382363Z"
    },
    "papermill": {
     "duration": 0.107653,
     "end_time": "2024-04-26T00:55:30.387009",
     "exception": false,
     "start_time": "2024-04-26T00:55:30.279356",
     "status": "completed"
    },
    "tags": []
   },
   "outputs": [],
   "source": [
    "model = Sequential([\n",
    "    tensorflow.keras.Input(shape = (400,)),\n",
    "    Dense(20,activation = \"relu\"),\n",
    "    Dense(15, activation = \"relu\"),\n",
    "    Dense(10,activation = \"linear\")\n",
    "],name = \"numbers\")"
   ]
  },
  {
   "cell_type": "code",
   "execution_count": 6,
   "id": "cf25983d",
   "metadata": {
    "execution": {
     "iopub.execute_input": "2024-04-26T00:55:30.399995Z",
     "iopub.status.busy": "2024-04-26T00:55:30.399491Z",
     "iopub.status.idle": "2024-04-26T00:55:30.419210Z",
     "shell.execute_reply": "2024-04-26T00:55:30.417659Z"
    },
    "papermill": {
     "duration": 0.029738,
     "end_time": "2024-04-26T00:55:30.422178",
     "exception": false,
     "start_time": "2024-04-26T00:55:30.392440",
     "status": "completed"
    },
    "tags": []
   },
   "outputs": [],
   "source": [
    "model.compile(\n",
    "    loss=tensorflow.keras.losses.SparseCategoricalCrossentropy(from_logits=True),\n",
    "    optimizer=tensorflow.keras.optimizers.Adam(learning_rate=0.001),\n",
    ")"
   ]
  },
  {
   "cell_type": "code",
   "execution_count": 7,
   "id": "793d6382",
   "metadata": {
    "execution": {
     "iopub.execute_input": "2024-04-26T00:55:30.435035Z",
     "iopub.status.busy": "2024-04-26T00:55:30.434634Z",
     "iopub.status.idle": "2024-04-26T00:55:40.255502Z",
     "shell.execute_reply": "2024-04-26T00:55:40.254346Z"
    },
    "papermill": {
     "duration": 9.830056,
     "end_time": "2024-04-26T00:55:40.258074",
     "exception": false,
     "start_time": "2024-04-26T00:55:30.428018",
     "status": "completed"
    },
    "tags": []
   },
   "outputs": [
    {
     "name": "stdout",
     "output_type": "stream",
     "text": [
      "Epoch 1/20\n",
      "\u001b[1m157/157\u001b[0m \u001b[32m━━━━━━━━━━━━━━━━━━━━\u001b[0m\u001b[37m\u001b[0m \u001b[1m1s\u001b[0m 2ms/step - loss: 1.9185\n",
      "Epoch 2/20\n",
      "\u001b[1m157/157\u001b[0m \u001b[32m━━━━━━━━━━━━━━━━━━━━\u001b[0m\u001b[37m\u001b[0m \u001b[1m0s\u001b[0m 2ms/step - loss: 0.7279\n",
      "Epoch 3/20\n",
      "\u001b[1m157/157\u001b[0m \u001b[32m━━━━━━━━━━━━━━━━━━━━\u001b[0m\u001b[37m\u001b[0m \u001b[1m0s\u001b[0m 2ms/step - loss: 0.4820\n",
      "Epoch 4/20\n",
      "\u001b[1m157/157\u001b[0m \u001b[32m━━━━━━━━━━━━━━━━━━━━\u001b[0m\u001b[37m\u001b[0m \u001b[1m0s\u001b[0m 2ms/step - loss: 0.3925\n",
      "Epoch 5/20\n",
      "\u001b[1m157/157\u001b[0m \u001b[32m━━━━━━━━━━━━━━━━━━━━\u001b[0m\u001b[37m\u001b[0m \u001b[1m0s\u001b[0m 2ms/step - loss: 0.3235\n",
      "Epoch 6/20\n",
      "\u001b[1m157/157\u001b[0m \u001b[32m━━━━━━━━━━━━━━━━━━━━\u001b[0m\u001b[37m\u001b[0m \u001b[1m1s\u001b[0m 2ms/step - loss: 0.2877\n",
      "Epoch 7/20\n",
      "\u001b[1m157/157\u001b[0m \u001b[32m━━━━━━━━━━━━━━━━━━━━\u001b[0m\u001b[37m\u001b[0m \u001b[1m1s\u001b[0m 2ms/step - loss: 0.2709\n",
      "Epoch 8/20\n",
      "\u001b[1m157/157\u001b[0m \u001b[32m━━━━━━━━━━━━━━━━━━━━\u001b[0m\u001b[37m\u001b[0m \u001b[1m0s\u001b[0m 2ms/step - loss: 0.2229\n",
      "Epoch 9/20\n",
      "\u001b[1m157/157\u001b[0m \u001b[32m━━━━━━━━━━━━━━━━━━━━\u001b[0m\u001b[37m\u001b[0m \u001b[1m0s\u001b[0m 2ms/step - loss: 0.2164\n",
      "Epoch 10/20\n",
      "\u001b[1m157/157\u001b[0m \u001b[32m━━━━━━━━━━━━━━━━━━━━\u001b[0m\u001b[37m\u001b[0m \u001b[1m1s\u001b[0m 2ms/step - loss: 0.1884\n",
      "Epoch 11/20\n",
      "\u001b[1m157/157\u001b[0m \u001b[32m━━━━━━━━━━━━━━━━━━━━\u001b[0m\u001b[37m\u001b[0m \u001b[1m0s\u001b[0m 2ms/step - loss: 0.1981\n",
      "Epoch 12/20\n",
      "\u001b[1m157/157\u001b[0m \u001b[32m━━━━━━━━━━━━━━━━━━━━\u001b[0m\u001b[37m\u001b[0m \u001b[1m1s\u001b[0m 2ms/step - loss: 0.1725\n",
      "Epoch 13/20\n",
      "\u001b[1m157/157\u001b[0m \u001b[32m━━━━━━━━━━━━━━━━━━━━\u001b[0m\u001b[37m\u001b[0m \u001b[1m1s\u001b[0m 2ms/step - loss: 0.1443\n",
      "Epoch 14/20\n",
      "\u001b[1m157/157\u001b[0m \u001b[32m━━━━━━━━━━━━━━━━━━━━\u001b[0m\u001b[37m\u001b[0m \u001b[1m1s\u001b[0m 2ms/step - loss: 0.1505\n",
      "Epoch 15/20\n",
      "\u001b[1m157/157\u001b[0m \u001b[32m━━━━━━━━━━━━━━━━━━━━\u001b[0m\u001b[37m\u001b[0m \u001b[1m0s\u001b[0m 2ms/step - loss: 0.1542\n",
      "Epoch 16/20\n",
      "\u001b[1m157/157\u001b[0m \u001b[32m━━━━━━━━━━━━━━━━━━━━\u001b[0m\u001b[37m\u001b[0m \u001b[1m0s\u001b[0m 2ms/step - loss: 0.1406\n",
      "Epoch 17/20\n",
      "\u001b[1m157/157\u001b[0m \u001b[32m━━━━━━━━━━━━━━━━━━━━\u001b[0m\u001b[37m\u001b[0m \u001b[1m0s\u001b[0m 2ms/step - loss: 0.1111\n",
      "Epoch 18/20\n",
      "\u001b[1m157/157\u001b[0m \u001b[32m━━━━━━━━━━━━━━━━━━━━\u001b[0m\u001b[37m\u001b[0m \u001b[1m0s\u001b[0m 2ms/step - loss: 0.1079\n",
      "Epoch 19/20\n",
      "\u001b[1m157/157\u001b[0m \u001b[32m━━━━━━━━━━━━━━━━━━━━\u001b[0m\u001b[37m\u001b[0m \u001b[1m0s\u001b[0m 2ms/step - loss: 0.1240\n",
      "Epoch 20/20\n",
      "\u001b[1m157/157\u001b[0m \u001b[32m━━━━━━━━━━━━━━━━━━━━\u001b[0m\u001b[37m\u001b[0m \u001b[1m1s\u001b[0m 2ms/step - loss: 0.1169\n"
     ]
    },
    {
     "data": {
      "text/plain": [
       "<keras.src.callbacks.history.History at 0x7ad9be07cb20>"
      ]
     },
     "execution_count": 7,
     "metadata": {},
     "output_type": "execute_result"
    }
   ],
   "source": [
    "model.fit(\n",
    "    dataX,\n",
    "    datay,\n",
    "    epochs = 20\n",
    ")"
   ]
  },
  {
   "cell_type": "code",
   "execution_count": 8,
   "id": "6c2d4d78",
   "metadata": {
    "execution": {
     "iopub.execute_input": "2024-04-26T00:55:40.305351Z",
     "iopub.status.busy": "2024-04-26T00:55:40.304203Z",
     "iopub.status.idle": "2024-04-26T00:55:40.781866Z",
     "shell.execute_reply": "2024-04-26T00:55:40.780595Z"
    },
    "papermill": {
     "duration": 0.505458,
     "end_time": "2024-04-26T00:55:40.785395",
     "exception": false,
     "start_time": "2024-04-26T00:55:40.279937",
     "status": "completed"
    },
    "tags": []
   },
   "outputs": [
    {
     "name": "stdout",
     "output_type": "stream",
     "text": [
      "\u001b[1m1/1\u001b[0m \u001b[32m━━━━━━━━━━━━━━━━━━━━\u001b[0m\u001b[37m\u001b[0m \u001b[1m0s\u001b[0m 62ms/step\n",
      "the computer thinks this number is: 5\n"
     ]
    },
    {
     "data": {
      "text/plain": [
       "<matplotlib.image.AxesImage at 0x7ad9a4ea7b50>"
      ]
     },
     "execution_count": 8,
     "metadata": {},
     "output_type": "execute_result"
    },
    {
     "data": {
      "image/png": "[encoded data removed]",
      "text/plain": [
       "<Figure size 640x480 with 1 Axes>"
      ]
     },
     "metadata": {},
     "output_type": "display_data"
    }
   ],
   "source": [
    "ans = list(model.predict(dataX[2608].reshape((1,400)))[0])\n",
    "print(\"the computer thinks this number is: \" + str(ans.index(max(ans))))\n",
    "pic = np.rot90(dataX[2608].reshape(20,20),1)[::-1]\n",
    "matplotlib.pyplot.imshow(pic,\"gray\")"
   ]
  },
  {
   "cell_type": "code",
   "execution_count": 9,
   "id": "b475627b",
   "metadata": {
    "execution": {
     "iopub.execute_input": "2024-04-26T00:55:40.834290Z",
     "iopub.status.busy": "2024-04-26T00:55:40.833907Z",
     "iopub.status.idle": "2024-04-26T00:55:41.244392Z",
     "shell.execute_reply": "2024-04-26T00:55:41.243172Z"
    },
    "papermill": {
     "duration": 0.44013,
     "end_time": "2024-04-26T00:55:41.247520",
     "exception": false,
     "start_time": "2024-04-26T00:55:40.807390",
     "status": "completed"
    },
    "tags": []
   },
   "outputs": [
    {
     "name": "stdout",
     "output_type": "stream",
     "text": [
      "\u001b[1m1/1\u001b[0m \u001b[32m━━━━━━━━━━━━━━━━━━━━\u001b[0m\u001b[37m\u001b[0m \u001b[1m0s\u001b[0m 21ms/step\n",
      "the computer thinks this number is: 2\n"
     ]
    },
    {
     "data": {
      "text/plain": [
       "<matplotlib.image.AxesImage at 0x7ad9a47e6860>"
      ]
     },
     "execution_count": 9,
     "metadata": {},
     "output_type": "execute_result"
    },
    {
     "data": {
      "image/png": "[encoded data removed]",
      "text/plain": [
       "<Figure size 640x480 with 1 Axes>"
      ]
     },
     "metadata": {},
     "output_type": "display_data"
    }
   ],
   "source": [
    "ans = list(model.predict(dataX[1389].reshape((1,400)))[0])\n",
    "print(\"the computer thinks this number is: \" + str(ans.index(max(ans))))\n",
    "pic = np.rot90(dataX[1389].reshape(20,20),1)[::-1]\n",
    "matplotlib.pyplot.imshow(pic,\"gray\")"
   ]
  },
  {
   "cell_type": "code",
   "execution_count": 10,
   "id": "dcd11ad0",
   "metadata": {
    "execution": {
     "iopub.execute_input": "2024-04-26T00:55:41.295948Z",
     "iopub.status.busy": "2024-04-26T00:55:41.295516Z",
     "iopub.status.idle": "2024-04-26T00:55:41.706942Z",
     "shell.execute_reply": "2024-04-26T00:55:41.705426Z"
    },
    "papermill": {
     "duration": 0.438735,
     "end_time": "2024-04-26T00:55:41.710136",
     "exception": false,
     "start_time": "2024-04-26T00:55:41.271401",
     "status": "completed"
    },
    "tags": []
   },
   "outputs": [
    {
     "name": "stdout",
     "output_type": "stream",
     "text": [
      "\u001b[1m1/1\u001b[0m \u001b[32m━━━━━━━━━━━━━━━━━━━━\u001b[0m\u001b[37m\u001b[0m \u001b[1m0s\u001b[0m 23ms/step\n",
      "the computer thinks this number is: 7\n"
     ]
    },
    {
     "data": {
      "text/plain": [
       "<matplotlib.image.AxesImage at 0x7ad9a486e440>"
      ]
     },
     "execution_count": 10,
     "metadata": {},
     "output_type": "execute_result"
    },
    {
     "data": {
      "image/png": "[encoded data removed]",
      "text/plain": [
       "<Figure size 640x480 with 1 Axes>"
      ]
     },
     "metadata": {},
     "output_type": "display_data"
    }
   ],
   "source": [
    "ans = list(model.predict(dataX[3927].reshape((1,400)))[0])\n",
    "print(\"the computer thinks this number is: \" + str(ans.index(max(ans))))\n",
    "pic = np.rot90(dataX[3927].reshape(20,20),1)[::-1]\n",
    "matplotlib.pyplot.imshow(pic,\"gray\")"
   ]
  },
  {
   "cell_type": "code",
   "execution_count": null,
   "id": "b6904cc1",
   "metadata": {
    "papermill": {
     "duration": 0.023091,
     "end_time": "2024-04-26T00:55:41.756694",
     "exception": false,
     "start_time": "2024-04-26T00:55:41.733603",
     "status": "completed"
    },
    "tags": []
   },
   "outputs": [],
   "source": []
  }
 ],
 "metadata": {
  "kaggle": {
   "accelerator": "none",
   "dataSources": [
    {
     "datasetId": 4849232,
     "sourceId": 8188956,
     "sourceType": "datasetVersion"
    }
   ],
   "dockerImageVersionId": 30698,
   "isGpuEnabled": false,
   "isInternetEnabled": true,
   "language": "python",
   "sourceType": "notebook"
  },
  "kernelspec": {
   "display_name": "Python 3",
   "language": "python",
   "name": "python3"
  },
  "language_info": {
   "codemirror_mode": {
    "name": "ipython",
    "version": 3
   },
   "file_extension": ".py",
   "mimetype": "text/x-python",
   "name": "python",
   "nbconvert_exporter": "python",
   "pygments_lexer": "ipython3",
   "version": "3.10.13"
  },
  "papermill": {
   "default_parameters": {},
   "duration": 37.211764,
   "end_time": "2024-04-26T00:55:44.178129",
   "environment_variables": {},
   "exception": null,
   "input_path": "__notebook__.ipynb",
   "output_path": "__notebook__.ipynb",
   "parameters": {},
   "start_time": "2024-04-26T00:55:06.966365",
   "version": "2.5.0"
  }
 },
 "nbformat": 4,
 "nbformat_minor": 5
}
