{
 "cells": [
  {
   "cell_type": "code",
   "execution_count": 1,
   "id": "4a315dfa",
   "metadata": {
    "execution": {
     "iopub.execute_input": "2024-04-22T01:41:51.963906Z",
     "iopub.status.busy": "2024-04-22T01:41:51.963167Z",
     "iopub.status.idle": "2024-04-22T01:41:54.356708Z",
     "shell.execute_reply": "2024-04-22T01:41:54.355655Z"
    },
    "papermill": {
     "duration": 2.403165,
     "end_time": "2024-04-22T01:41:54.359292",
     "exception": false,
     "start_time": "2024-04-22T01:41:51.956127",
     "status": "completed"
    },
    "tags": []
   },
   "outputs": [],
   "source": [
    "import pandas as pd\n",
    "import numpy as np\n",
    "import seaborn as sns\n",
    "import matplotlib\n",
    "import matplotlib.pyplot as py\n",
    "from matplotlib.pyplot import imshow"
   ]
  },
  {
   "cell_type": "code",
   "execution_count": 2,
   "id": "e8c6ccbe",
   "metadata": {
    "execution": {
     "iopub.execute_input": "2024-04-22T01:41:54.370548Z",
     "iopub.status.busy": "2024-04-22T01:41:54.369913Z",
     "iopub.status.idle": "2024-04-22T01:41:55.540543Z",
     "shell.execute_reply": "2024-04-22T01:41:55.539480Z"
    },
    "papermill": {
     "duration": 1.179278,
     "end_time": "2024-04-22T01:41:55.543409",
     "exception": false,
     "start_time": "2024-04-22T01:41:54.364131",
     "status": "completed"
    },
    "tags": []
   },
   "outputs": [],
   "source": [
    "data = pd.read_csv(\"/kaggle/input/handdrawnnumbers/0to9classification.csv\")\n",
    "tempdataX = data.iloc[:,1:data.shape[1]-1].transpose()\n",
    "tempdatay = np.array(data.iloc[:,data.shape[1]-1])\n",
    "datay = []\n",
    "for i in tempdatay:\n",
    "    datay.append(np.array([i]))\n",
    "datay = np.array(datay)\n",
    "dataX = []\n",
    "for i in tempdataX:\n",
    "    dataX.append(np.array(tempdataX[i]))\n",
    "dataX = np.array(dataX)"
   ]
  },
  {
   "cell_type": "code",
   "execution_count": 3,
   "id": "bd718d7a",
   "metadata": {
    "execution": {
     "iopub.execute_input": "2024-04-22T01:41:55.553714Z",
     "iopub.status.busy": "2024-04-22T01:41:55.553359Z",
     "iopub.status.idle": "2024-04-22T01:41:55.896338Z",
     "shell.execute_reply": "2024-04-22T01:41:55.895185Z"
    },
    "papermill": {
     "duration": 0.350945,
     "end_time": "2024-04-22T01:41:55.898841",
     "exception": false,
     "start_time": "2024-04-22T01:41:55.547896",
     "status": "completed"
    },
    "tags": []
   },
   "outputs": [
    {
     "data": {
      "text/plain": [
       "<matplotlib.image.AxesImage at 0x7e5362220100>"
      ]
     },
     "execution_count": 3,
     "metadata": {},
     "output_type": "execute_result"
    },
    {
     "data": {
      "image/png": "[encoded data removed]",
      "text/plain": [
       "<Figure size 640x480 with 1 Axes>"
      ]
     },
     "metadata": {},
     "output_type": "display_data"
    }
   ],
   "source": [
    "pic = np.array(dataX[3500]).reshape(20,20)\n",
    "matplotlib.pyplot.imshow(pic,\"gray\")"
   ]
  },
  {
   "cell_type": "code",
   "execution_count": 4,
   "id": "2c663292",
   "metadata": {
    "execution": {
     "iopub.execute_input": "2024-04-22T01:41:55.910457Z",
     "iopub.status.busy": "2024-04-22T01:41:55.910056Z",
     "iopub.status.idle": "2024-04-22T01:42:10.115565Z",
     "shell.execute_reply": "2024-04-22T01:42:10.114264Z"
    },
    "papermill": {
     "duration": 14.214766,
     "end_time": "2024-04-22T01:42:10.118625",
     "exception": false,
     "start_time": "2024-04-22T01:41:55.903859",
     "status": "completed"
    },
    "tags": []
   },
   "outputs": [
    {
     "name": "stderr",
     "output_type": "stream",
     "text": [
      "2024-04-22 01:41:58.259864: E external/local_xla/xla/stream_executor/cuda/cuda_dnn.cc:9261] Unable to register cuDNN factory: Attempting to register factory for plugin cuDNN when one has already been registered\n",
      "2024-04-22 01:41:58.259987: E external/local_xla/xla/stream_executor/cuda/cuda_fft.cc:607] Unable to register cuFFT factory: Attempting to register factory for plugin cuFFT when one has already been registered\n",
      "2024-04-22 01:41:58.435327: E external/local_xla/xla/stream_executor/cuda/cuda_blas.cc:1515] Unable to register cuBLAS factory: Attempting to register factory for plugin cuBLAS when one has already been registered\n"
     ]
    }
   ],
   "source": [
    "import tensorflow\n",
    "from tensorflow.keras.models import Sequential\n",
    "from tensorflow.keras.layers import Dense\n"
   ]
  },
  {
   "cell_type": "code",
   "execution_count": 5,
   "id": "e0cd8dc3",
   "metadata": {
    "execution": {
     "iopub.execute_input": "2024-04-22T01:42:10.131578Z",
     "iopub.status.busy": "2024-04-22T01:42:10.130534Z",
     "iopub.status.idle": "2024-04-22T01:42:10.211231Z",
     "shell.execute_reply": "2024-04-22T01:42:10.210016Z"
    },
    "papermill": {
     "duration": 0.090129,
     "end_time": "2024-04-22T01:42:10.214035",
     "exception": false,
     "start_time": "2024-04-22T01:42:10.123906",
     "status": "completed"
    },
    "tags": []
   },
   "outputs": [],
   "source": [
    "model = Sequential([\n",
    "    tensorflow.keras.Input(shape = (400,)),\n",
    "    Dense(20,activation = \"relu\"),\n",
    "    Dense(15, activation = \"relu\"),\n",
    "    Dense(10,activation = \"linear\")\n",
    "],name = \"numbers\")"
   ]
  },
  {
   "cell_type": "code",
   "execution_count": 6,
   "id": "b9202aeb",
   "metadata": {
    "execution": {
     "iopub.execute_input": "2024-04-22T01:42:10.226343Z",
     "iopub.status.busy": "2024-04-22T01:42:10.225889Z",
     "iopub.status.idle": "2024-04-22T01:42:10.241682Z",
     "shell.execute_reply": "2024-04-22T01:42:10.240518Z"
    },
    "papermill": {
     "duration": 0.02512,
     "end_time": "2024-04-22T01:42:10.244430",
     "exception": false,
     "start_time": "2024-04-22T01:42:10.219310",
     "status": "completed"
    },
    "tags": []
   },
   "outputs": [],
   "source": [
    "model.compile(\n",
    "    loss=tensorflow.keras.losses.SparseCategoricalCrossentropy(from_logits=True),\n",
    "    optimizer=tensorflow.keras.optimizers.Adam(learning_rate=0.001),\n",
    ")"
   ]
  },
  {
   "cell_type": "code",
   "execution_count": 7,
   "id": "37372b71",
   "metadata": {
    "execution": {
     "iopub.execute_input": "2024-04-22T01:42:10.256918Z",
     "iopub.status.busy": "2024-04-22T01:42:10.256506Z",
     "iopub.status.idle": "2024-04-22T01:42:17.267312Z",
     "shell.execute_reply": "2024-04-22T01:42:17.265943Z"
    },
    "papermill": {
     "duration": 7.019929,
     "end_time": "2024-04-22T01:42:17.269878",
     "exception": false,
     "start_time": "2024-04-22T01:42:10.249949",
     "status": "completed"
    },
    "tags": []
   },
   "outputs": [
    {
     "name": "stdout",
     "output_type": "stream",
     "text": [
      "Epoch 1/20\n",
      "\u001b[1m157/157\u001b[0m \u001b[32m━━━━━━━━━━━━━━━━━━━━\u001b[0m\u001b[37m\u001b[0m \u001b[1m1s\u001b[0m 1ms/step - loss: 1.9258\n",
      "Epoch 2/20\n",
      "\u001b[1m157/157\u001b[0m \u001b[32m━━━━━━━━━━━━━━━━━━━━\u001b[0m\u001b[37m\u001b[0m \u001b[1m1s\u001b[0m 1ms/step - loss: 0.6958\n",
      "Epoch 3/20\n",
      "\u001b[1m157/157\u001b[0m \u001b[32m━━━━━━━━━━━━━━━━━━━━\u001b[0m\u001b[37m\u001b[0m \u001b[1m0s\u001b[0m 1ms/step - loss: 0.4592\n",
      "Epoch 4/20\n",
      "\u001b[1m157/157\u001b[0m \u001b[32m━━━━━━━━━━━━━━━━━━━━\u001b[0m\u001b[37m\u001b[0m \u001b[1m0s\u001b[0m 1ms/step - loss: 0.3750\n",
      "Epoch 5/20\n",
      "\u001b[1m157/157\u001b[0m \u001b[32m━━━━━━━━━━━━━━━━━━━━\u001b[0m\u001b[37m\u001b[0m \u001b[1m0s\u001b[0m 1ms/step - loss: 0.3264\n",
      "Epoch 6/20\n",
      "\u001b[1m157/157\u001b[0m \u001b[32m━━━━━━━━━━━━━━━━━━━━\u001b[0m\u001b[37m\u001b[0m \u001b[1m0s\u001b[0m 1ms/step - loss: 0.2889\n",
      "Epoch 7/20\n",
      "\u001b[1m157/157\u001b[0m \u001b[32m━━━━━━━━━━━━━━━━━━━━\u001b[0m\u001b[37m\u001b[0m \u001b[1m0s\u001b[0m 1ms/step - loss: 0.2769\n",
      "Epoch 8/20\n",
      "\u001b[1m157/157\u001b[0m \u001b[32m━━━━━━━━━━━━━━━━━━━━\u001b[0m\u001b[37m\u001b[0m \u001b[1m0s\u001b[0m 1ms/step - loss: 0.2551\n",
      "Epoch 9/20\n",
      "\u001b[1m157/157\u001b[0m \u001b[32m━━━━━━━━━━━━━━━━━━━━\u001b[0m\u001b[37m\u001b[0m \u001b[1m0s\u001b[0m 1ms/step - loss: 0.2725\n",
      "Epoch 10/20\n",
      "\u001b[1m157/157\u001b[0m \u001b[32m━━━━━━━━━━━━━━━━━━━━\u001b[0m\u001b[37m\u001b[0m \u001b[1m0s\u001b[0m 1ms/step - loss: 0.2377\n",
      "Epoch 11/20\n",
      "\u001b[1m157/157\u001b[0m \u001b[32m━━━━━━━━━━━━━━━━━━━━\u001b[0m\u001b[37m\u001b[0m \u001b[1m0s\u001b[0m 1ms/step - loss: 0.2362\n",
      "Epoch 12/20\n",
      "\u001b[1m157/157\u001b[0m \u001b[32m━━━━━━━━━━━━━━━━━━━━\u001b[0m\u001b[37m\u001b[0m \u001b[1m0s\u001b[0m 1ms/step - loss: 0.1968\n",
      "Epoch 13/20\n",
      "\u001b[1m157/157\u001b[0m \u001b[32m━━━━━━━━━━━━━━━━━━━━\u001b[0m\u001b[37m\u001b[0m \u001b[1m0s\u001b[0m 1ms/step - loss: 0.2027\n",
      "Epoch 14/20\n",
      "\u001b[1m157/157\u001b[0m \u001b[32m━━━━━━━━━━━━━━━━━━━━\u001b[0m\u001b[37m\u001b[0m \u001b[1m0s\u001b[0m 1ms/step - loss: 0.1863\n",
      "Epoch 15/20\n",
      "\u001b[1m157/157\u001b[0m \u001b[32m━━━━━━━━━━━━━━━━━━━━\u001b[0m\u001b[37m\u001b[0m \u001b[1m0s\u001b[0m 1ms/step - loss: 0.1820\n",
      "Epoch 16/20\n",
      "\u001b[1m157/157\u001b[0m \u001b[32m━━━━━━━━━━━━━━━━━━━━\u001b[0m\u001b[37m\u001b[0m \u001b[1m0s\u001b[0m 1ms/step - loss: 0.1861\n",
      "Epoch 17/20\n",
      "\u001b[1m157/157\u001b[0m \u001b[32m━━━━━━━━━━━━━━━━━━━━\u001b[0m\u001b[37m\u001b[0m \u001b[1m0s\u001b[0m 1ms/step - loss: 0.1740\n",
      "Epoch 18/20\n",
      "\u001b[1m157/157\u001b[0m \u001b[32m━━━━━━━━━━━━━━━━━━━━\u001b[0m\u001b[37m\u001b[0m \u001b[1m0s\u001b[0m 1ms/step - loss: 0.1678\n",
      "Epoch 19/20\n",
      "\u001b[1m157/157\u001b[0m \u001b[32m━━━━━━━━━━━━━━━━━━━━\u001b[0m\u001b[37m\u001b[0m \u001b[1m0s\u001b[0m 1ms/step - loss: 0.1464\n",
      "Epoch 20/20\n",
      "\u001b[1m157/157\u001b[0m \u001b[32m━━━━━━━━━━━━━━━━━━━━\u001b[0m\u001b[37m\u001b[0m \u001b[1m0s\u001b[0m 1ms/step - loss: 0.1541\n"
     ]
    },
    {
     "data": {
      "text/plain": [
       "<keras.src.callbacks.history.History at 0x7e53141cc700>"
      ]
     },
     "execution_count": 7,
     "metadata": {},
     "output_type": "execute_result"
    }
   ],
   "source": [
    "model.fit(\n",
    "    dataX,\n",
    "    datay,\n",
    "    epochs = 20\n",
    ")"
   ]
  },
  {
   "cell_type": "code",
   "execution_count": 8,
   "id": "306d7f36",
   "metadata": {
    "execution": {
     "iopub.execute_input": "2024-04-22T01:42:17.308824Z",
     "iopub.status.busy": "2024-04-22T01:42:17.308413Z",
     "iopub.status.idle": "2024-04-22T01:42:17.739462Z",
     "shell.execute_reply": "2024-04-22T01:42:17.738143Z"
    },
    "papermill": {
     "duration": 0.453565,
     "end_time": "2024-04-22T01:42:17.742042",
     "exception": false,
     "start_time": "2024-04-22T01:42:17.288477",
     "status": "completed"
    },
    "tags": []
   },
   "outputs": [
    {
     "name": "stdout",
     "output_type": "stream",
     "text": [
      "\u001b[1m1/1\u001b[0m \u001b[32m━━━━━━━━━━━━━━━━━━━━\u001b[0m\u001b[37m\u001b[0m \u001b[1m0s\u001b[0m 56ms/step\n",
      "the computer thinks this number is: 5\n"
     ]
    },
    {
     "data": {
      "text/plain": [
       "<matplotlib.image.AxesImage at 0x7e53141cf640>"
      ]
     },
     "execution_count": 8,
     "metadata": {},
     "output_type": "execute_result"
    },
    {
     "data": {
      "image/png": "[encoded data removed]",
      "text/plain": [
       "<Figure size 640x480 with 1 Axes>"
      ]
     },
     "metadata": {},
     "output_type": "display_data"
    }
   ],
   "source": [
    "ans = list(model.predict(dataX[2608].reshape((1,400)))[0])\n",
    "print(\"the computer thinks this number is: \" + str(ans.index(max(ans))))\n",
    "matplotlib.pyplot.imshow(dataX[2608].reshape(20,20),\"gray\")"
   ]
  },
  {
   "cell_type": "code",
   "execution_count": 9,
   "id": "d01d8430",
   "metadata": {
    "execution": {
     "iopub.execute_input": "2024-04-22T01:42:17.784523Z",
     "iopub.status.busy": "2024-04-22T01:42:17.784096Z",
     "iopub.status.idle": "2024-04-22T01:42:18.191696Z",
     "shell.execute_reply": "2024-04-22T01:42:18.190153Z"
    },
    "papermill": {
     "duration": 0.432584,
     "end_time": "2024-04-22T01:42:18.194558",
     "exception": false,
     "start_time": "2024-04-22T01:42:17.761974",
     "status": "completed"
    },
    "tags": []
   },
   "outputs": [
    {
     "name": "stdout",
     "output_type": "stream",
     "text": [
      "\u001b[1m1/1\u001b[0m \u001b[32m━━━━━━━━━━━━━━━━━━━━\u001b[0m\u001b[37m\u001b[0m \u001b[1m0s\u001b[0m 19ms/step\n",
      "the computer thinks this number is: 2\n"
     ]
    },
    {
     "data": {
      "text/plain": [
       "<matplotlib.image.AxesImage at 0x7e5305712bc0>"
      ]
     },
     "execution_count": 9,
     "metadata": {},
     "output_type": "execute_result"
    },
    {
     "data": {
      "image/png": "[encoded data removed]",
      "text/plain": [
       "<Figure size 640x480 with 1 Axes>"
      ]
     },
     "metadata": {},
     "output_type": "display_data"
    }
   ],
   "source": [
    "ans = list(model.predict(dataX[1389].reshape((1,400)))[0])\n",
    "print(\"the computer thinks this number is: \" + str(ans.index(max(ans))))\n",
    "matplotlib.pyplot.imshow(dataX[1389].reshape(20,20),\"gray\")"
   ]
  },
  {
   "cell_type": "code",
   "execution_count": 10,
   "id": "ac757995",
   "metadata": {
    "execution": {
     "iopub.execute_input": "2024-04-22T01:42:18.236779Z",
     "iopub.status.busy": "2024-04-22T01:42:18.236317Z",
     "iopub.status.idle": "2024-04-22T01:42:18.559963Z",
     "shell.execute_reply": "2024-04-22T01:42:18.558867Z"
    },
    "papermill": {
     "duration": 0.347916,
     "end_time": "2024-04-22T01:42:18.562541",
     "exception": false,
     "start_time": "2024-04-22T01:42:18.214625",
     "status": "completed"
    },
    "tags": []
   },
   "outputs": [
    {
     "name": "stdout",
     "output_type": "stream",
     "text": [
      "\u001b[1m1/1\u001b[0m \u001b[32m━━━━━━━━━━━━━━━━━━━━\u001b[0m\u001b[37m\u001b[0m \u001b[1m0s\u001b[0m 20ms/step\n",
      "the computer thinks this number is: 7\n"
     ]
    },
    {
     "data": {
      "text/plain": [
       "<matplotlib.image.AxesImage at 0x7e530579b550>"
      ]
     },
     "execution_count": 10,
     "metadata": {},
     "output_type": "execute_result"
    },
    {
     "data": {
      "image/png": "[encoded data removed]",
      "text/plain": [
       "<Figure size 640x480 with 1 Axes>"
      ]
     },
     "metadata": {},
     "output_type": "display_data"
    }
   ],
   "source": [
    "ans = list(model.predict(dataX[3927].reshape((1,400)))[0])\n",
    "print(\"the computer thinks this number is: \" + str(ans.index(max(ans))))\n",
    "matplotlib.pyplot.imshow(dataX[3927].reshape(20,20),\"gray\")"
   ]
  },
  {
   "cell_type": "code",
   "execution_count": null,
   "id": "7eb40081",
   "metadata": {
    "papermill": {
     "duration": 0.020217,
     "end_time": "2024-04-22T01:42:18.603908",
     "exception": false,
     "start_time": "2024-04-22T01:42:18.583691",
     "status": "completed"
    },
    "tags": []
   },
   "outputs": [],
   "source": []
  }
 ],
 "metadata": {
  "kaggle": {
   "accelerator": "none",
   "dataSources": [
    {
     "datasetId": 4849232,
     "sourceId": 8188956,
     "sourceType": "datasetVersion"
    }
   ],
   "dockerImageVersionId": 30702,
   "isGpuEnabled": false,
   "isInternetEnabled": true,
   "language": "python",
   "sourceType": "notebook"
  },
  "kernelspec": {
   "display_name": "Python 3",
   "language": "python",
   "name": "python3"
  },
  "language_info": {
   "codemirror_mode": {
    "name": "ipython",
    "version": 3
   },
   "file_extension": ".py",
   "mimetype": "text/x-python",
   "name": "python",
   "nbconvert_exporter": "python",
   "pygments_lexer": "ipython3",
   "version": "3.10.13"
  },
  "papermill": {
   "default_parameters": {},
   "duration": 32.13538,
   "end_time": "2024-04-22T01:42:21.011994",
   "environment_variables": {},
   "exception": null,
   "input_path": "__notebook__.ipynb",
   "output_path": "__notebook__.ipynb",
   "parameters": {},
   "start_time": "2024-04-22T01:41:48.876614",
   "version": "2.5.0"
  }
 },
 "nbformat": 4,
 "nbformat_minor": 5
}
