{
 "cells": [
  {
   "cell_type": "markdown",
   "id": "d65db293",
   "metadata": {
    "papermill": {
     "duration": 0.004624,
     "end_time": "2024-04-11T01:00:34.233978",
     "exception": false,
     "start_time": "2024-04-11T01:00:34.229354",
     "status": "completed"
    },
    "tags": []
   },
   "source": [
    "### Hello, John Aidan here. This was my first attempt to make a car price prediction. Unfortunatly, I was unaware that the data was from cardekho.com. This is a used car website based in India. It did not line up with car prices where I live, so I had to create an entirely new notebook.\n"
   ]
  },
  {
   "cell_type": "code",
   "execution_count": 1,
   "id": "e81fabda",
   "metadata": {
    "execution": {
     "iopub.execute_input": "2024-04-11T01:00:34.245262Z",
     "iopub.status.busy": "2024-04-11T01:00:34.244825Z",
     "iopub.status.idle": "2024-04-11T01:00:36.704700Z",
     "shell.execute_reply": "2024-04-11T01:00:36.703621Z"
    },
    "papermill": {
     "duration": 2.468313,
     "end_time": "2024-04-11T01:00:36.707419",
     "exception": false,
     "start_time": "2024-04-11T01:00:34.239106",
     "status": "completed"
    },
    "tags": []
   },
   "outputs": [
    {
     "data": {
      "text/html": [
       "<div>\n",
       "<style scoped>\n",
       "    .dataframe tbody tr th:only-of-type {\n",
       "        vertical-align: middle;\n",
       "    }\n",
       "\n",
       "    .dataframe tbody tr th {\n",
       "        vertical-align: top;\n",
       "    }\n",
       "\n",
       "    .dataframe thead th {\n",
       "        text-align: right;\n",
       "    }\n",
       "</style>\n",
       "<table border=\"1\" class=\"dataframe\">\n",
       "  <thead>\n",
       "    <tr style=\"text-align: right;\">\n",
       "      <th></th>\n",
       "      <th>name</th>\n",
       "      <th>year</th>\n",
       "      <th>price</th>\n",
       "      <th>km_driven</th>\n",
       "      <th>fuel</th>\n",
       "      <th>seller_type</th>\n",
       "      <th>transmission</th>\n",
       "      <th>owner</th>\n",
       "      <th>mileage</th>\n",
       "      <th>engine</th>\n",
       "      <th>power</th>\n",
       "      <th>seats</th>\n",
       "    </tr>\n",
       "  </thead>\n",
       "  <tbody>\n",
       "    <tr>\n",
       "      <th>0</th>\n",
       "      <td>Maruti Swift Dzire VDI</td>\n",
       "      <td>2014.0</td>\n",
       "      <td>450000.0</td>\n",
       "      <td>145500.0</td>\n",
       "      <td>Diesel</td>\n",
       "      <td>Individual</td>\n",
       "      <td>Manual</td>\n",
       "      <td>First Owner</td>\n",
       "      <td>23.40</td>\n",
       "      <td>1248.0</td>\n",
       "      <td>74</td>\n",
       "      <td>5.0</td>\n",
       "    </tr>\n",
       "    <tr>\n",
       "      <th>1</th>\n",
       "      <td>Skoda Rapid 1.5 TDI Ambition</td>\n",
       "      <td>2014.0</td>\n",
       "      <td>370000.0</td>\n",
       "      <td>120000.0</td>\n",
       "      <td>Diesel</td>\n",
       "      <td>Individual</td>\n",
       "      <td>Manual</td>\n",
       "      <td>Second Owner</td>\n",
       "      <td>21.14</td>\n",
       "      <td>1498.0</td>\n",
       "      <td>103.52</td>\n",
       "      <td>5.0</td>\n",
       "    </tr>\n",
       "    <tr>\n",
       "      <th>2</th>\n",
       "      <td>Honda City 2017-2020 EXi</td>\n",
       "      <td>2006.0</td>\n",
       "      <td>158000.0</td>\n",
       "      <td>140000.0</td>\n",
       "      <td>Petrol</td>\n",
       "      <td>Individual</td>\n",
       "      <td>Manual</td>\n",
       "      <td>Third Owner</td>\n",
       "      <td>17.70</td>\n",
       "      <td>1497.0</td>\n",
       "      <td>78</td>\n",
       "      <td>5.0</td>\n",
       "    </tr>\n",
       "    <tr>\n",
       "      <th>3</th>\n",
       "      <td>Hyundai i20 Sportz Diesel</td>\n",
       "      <td>2010.0</td>\n",
       "      <td>225000.0</td>\n",
       "      <td>127000.0</td>\n",
       "      <td>Diesel</td>\n",
       "      <td>Individual</td>\n",
       "      <td>Manual</td>\n",
       "      <td>First Owner</td>\n",
       "      <td>23.00</td>\n",
       "      <td>1396.0</td>\n",
       "      <td>90</td>\n",
       "      <td>5.0</td>\n",
       "    </tr>\n",
       "    <tr>\n",
       "      <th>4</th>\n",
       "      <td>Maruti Swift VXI BSIII</td>\n",
       "      <td>2007.0</td>\n",
       "      <td>130000.0</td>\n",
       "      <td>120000.0</td>\n",
       "      <td>Petrol</td>\n",
       "      <td>Individual</td>\n",
       "      <td>Manual</td>\n",
       "      <td>First Owner</td>\n",
       "      <td>16.10</td>\n",
       "      <td>1298.0</td>\n",
       "      <td>88.2</td>\n",
       "      <td>5.0</td>\n",
       "    </tr>\n",
       "  </tbody>\n",
       "</table>\n",
       "</div>"
      ],
      "text/plain": [
       "                           name    year     price  km_driven    fuel  \\\n",
       "0        Maruti Swift Dzire VDI  2014.0  450000.0   145500.0  Diesel   \n",
       "1  Skoda Rapid 1.5 TDI Ambition  2014.0  370000.0   120000.0  Diesel   \n",
       "2      Honda City 2017-2020 EXi  2006.0  158000.0   140000.0  Petrol   \n",
       "3     Hyundai i20 Sportz Diesel  2010.0  225000.0   127000.0  Diesel   \n",
       "4        Maruti Swift VXI BSIII  2007.0  130000.0   120000.0  Petrol   \n",
       "\n",
       "  seller_type transmission         owner  mileage  engine   power  seats  \n",
       "0  Individual       Manual   First Owner    23.40  1248.0      74    5.0  \n",
       "1  Individual       Manual  Second Owner    21.14  1498.0  103.52    5.0  \n",
       "2  Individual       Manual   Third Owner    17.70  1497.0      78    5.0  \n",
       "3  Individual       Manual   First Owner    23.00  1396.0      90    5.0  \n",
       "4  Individual       Manual   First Owner    16.10  1298.0    88.2    5.0  "
      ]
     },
     "execution_count": 1,
     "metadata": {},
     "output_type": "execute_result"
    }
   ],
   "source": [
    "import pandas as pd\n",
    "import numpy as np\n",
    "import seaborn as sns\n",
    "data = pd.read_csv(\"/kaggle/input/car-price-prediction-dataset/cardekho.csv\")\n",
    "data = data.rename(columns={\"mileage(km/ltr/kg)\":\"mileage\",\"max_power\":\"power\",\"selling_price\":\"price\"})\n",
    "data[data[\"power\"] == \" \"] = np.nan\n",
    "data = data.dropna()\n",
    "data.head()"
   ]
  },
  {
   "cell_type": "code",
   "execution_count": 2,
   "id": "2d75c621",
   "metadata": {
    "execution": {
     "iopub.execute_input": "2024-04-11T01:00:36.718269Z",
     "iopub.status.busy": "2024-04-11T01:00:36.717832Z",
     "iopub.status.idle": "2024-04-11T01:00:36.771668Z",
     "shell.execute_reply": "2024-04-11T01:00:36.770284Z"
    },
    "papermill": {
     "duration": 0.062509,
     "end_time": "2024-04-11T01:00:36.774505",
     "exception": false,
     "start_time": "2024-04-11T01:00:36.711996",
     "status": "completed"
    },
    "tags": []
   },
   "outputs": [
    {
     "name": "stdout",
     "output_type": "stream",
     "text": [
      "0     Maruti\n",
      "1      Skoda\n",
      "2      Honda\n",
      "3    Hyundai\n",
      "4     Maruti\n",
      "Name: name, dtype: object\n",
      "0    1\n",
      "1    2\n",
      "2    3\n",
      "3    1\n",
      "4    1\n",
      "Name: owner, dtype: int64\n",
      "0    10.0\n",
      "1    10.0\n",
      "2    18.0\n",
      "3    14.0\n",
      "4    17.0\n",
      "Name: year, dtype: float64\n"
     ]
    }
   ],
   "source": [
    "#fixing name\n",
    "def nameFix(line):\n",
    "    return line.split(\" \")[0]\n",
    "data[\"name\"] = data[\"name\"].apply(nameFix)\n",
    "print(data[\"name\"].head(5))\n",
    "#fixing owner\n",
    "def ownerFix(line):\n",
    "    if line == \"Test Drive Car\":\n",
    "        line = \"First Owner\"\n",
    "    line = line.split(\" \")[0].lower()\n",
    "    if line == \"first\":\n",
    "        return 1\n",
    "    elif line == \"second\":\n",
    "        return 2\n",
    "    elif line == \"third\":\n",
    "        return 3\n",
    "    return 4\n",
    "data[\"owner\"] = data[\"owner\"].apply(ownerFix)\n",
    "print(data[\"owner\"].head(5))\n",
    "#fixing year\n",
    "def yearFix(line):\n",
    "    currYear = 2024\n",
    "    return currYear - line\n",
    "data[\"year\"] = data[\"year\"].apply(yearFix)\n",
    "print(data[\"year\"].head(5))\n",
    "#fixing seats\n",
    "def powerFix(line):\n",
    "    return int(round(float(line)))\n",
    "data[\"power\"] = data[\"power\"].apply(powerFix)\n",
    "#turning price into numbers\n",
    "def priceFix(line):\n",
    "    return int(line)\n",
    "data[\"price\"] = data[\"price\"].apply(priceFix)\n",
    "#turning gas into numbers\n",
    "def gasFix(line):\n",
    "    key = {\"LPG\":0,\"CNG\":1,\"Petrol\":2,\"Diesel\":3}\n",
    "    return key[line]\n",
    "data[\"fuel\"] = data[\"fuel\"].apply(gasFix)\n",
    "def transmissionFix(line):\n",
    "    if line == \"Manual\":\n",
    "        return 0\n",
    "    return 1\n",
    "data[\"transmission\"] = data[\"transmission\"].apply(transmissionFix)\n",
    "def mileageFix(line):\n",
    "    return int(line)\n",
    "data[\"mileage\"] = data[\"mileage\"].apply(mileageFix)"
   ]
  },
  {
   "cell_type": "code",
   "execution_count": 3,
   "id": "d99279a7",
   "metadata": {
    "execution": {
     "iopub.execute_input": "2024-04-11T01:00:36.786066Z",
     "iopub.status.busy": "2024-04-11T01:00:36.785687Z",
     "iopub.status.idle": "2024-04-11T01:00:36.798352Z",
     "shell.execute_reply": "2024-04-11T01:00:36.797164Z"
    },
    "papermill": {
     "duration": 0.021605,
     "end_time": "2024-04-11T01:00:36.801147",
     "exception": false,
     "start_time": "2024-04-11T01:00:36.779542",
     "status": "completed"
    },
    "tags": []
   },
   "outputs": [],
   "source": [
    "new_data = data.loc[:,[\"year\",\"km_driven\",\"power\",\"owner\",\"seats\",\"fuel\",\"price\",\"transmission\",\"mileage\"]]\n",
    "new_data = new_data.dropna()"
   ]
  },
  {
   "cell_type": "code",
   "execution_count": 4,
   "id": "80250ea9",
   "metadata": {
    "execution": {
     "iopub.execute_input": "2024-04-11T01:00:36.813171Z",
     "iopub.status.busy": "2024-04-11T01:00:36.811981Z",
     "iopub.status.idle": "2024-04-11T01:00:36.828146Z",
     "shell.execute_reply": "2024-04-11T01:00:36.827004Z"
    },
    "papermill": {
     "duration": 0.024553,
     "end_time": "2024-04-11T01:00:36.830307",
     "exception": false,
     "start_time": "2024-04-11T01:00:36.805754",
     "status": "completed"
    },
    "tags": []
   },
   "outputs": [
    {
     "data": {
      "text/html": [
       "<div>\n",
       "<style scoped>\n",
       "    .dataframe tbody tr th:only-of-type {\n",
       "        vertical-align: middle;\n",
       "    }\n",
       "\n",
       "    .dataframe tbody tr th {\n",
       "        vertical-align: top;\n",
       "    }\n",
       "\n",
       "    .dataframe thead th {\n",
       "        text-align: right;\n",
       "    }\n",
       "</style>\n",
       "<table border=\"1\" class=\"dataframe\">\n",
       "  <thead>\n",
       "    <tr style=\"text-align: right;\">\n",
       "      <th></th>\n",
       "      <th>year</th>\n",
       "      <th>km_driven</th>\n",
       "      <th>power</th>\n",
       "      <th>owner</th>\n",
       "      <th>seats</th>\n",
       "      <th>fuel</th>\n",
       "      <th>price</th>\n",
       "      <th>transmission</th>\n",
       "      <th>mileage</th>\n",
       "    </tr>\n",
       "  </thead>\n",
       "  <tbody>\n",
       "    <tr>\n",
       "      <th>0</th>\n",
       "      <td>10.0</td>\n",
       "      <td>145500.0</td>\n",
       "      <td>74</td>\n",
       "      <td>1</td>\n",
       "      <td>5.0</td>\n",
       "      <td>3</td>\n",
       "      <td>450000</td>\n",
       "      <td>0</td>\n",
       "      <td>23</td>\n",
       "    </tr>\n",
       "    <tr>\n",
       "      <th>1</th>\n",
       "      <td>10.0</td>\n",
       "      <td>120000.0</td>\n",
       "      <td>104</td>\n",
       "      <td>2</td>\n",
       "      <td>5.0</td>\n",
       "      <td>3</td>\n",
       "      <td>370000</td>\n",
       "      <td>0</td>\n",
       "      <td>21</td>\n",
       "    </tr>\n",
       "    <tr>\n",
       "      <th>2</th>\n",
       "      <td>18.0</td>\n",
       "      <td>140000.0</td>\n",
       "      <td>78</td>\n",
       "      <td>3</td>\n",
       "      <td>5.0</td>\n",
       "      <td>2</td>\n",
       "      <td>158000</td>\n",
       "      <td>0</td>\n",
       "      <td>17</td>\n",
       "    </tr>\n",
       "    <tr>\n",
       "      <th>3</th>\n",
       "      <td>14.0</td>\n",
       "      <td>127000.0</td>\n",
       "      <td>90</td>\n",
       "      <td>1</td>\n",
       "      <td>5.0</td>\n",
       "      <td>3</td>\n",
       "      <td>225000</td>\n",
       "      <td>0</td>\n",
       "      <td>23</td>\n",
       "    </tr>\n",
       "    <tr>\n",
       "      <th>4</th>\n",
       "      <td>17.0</td>\n",
       "      <td>120000.0</td>\n",
       "      <td>88</td>\n",
       "      <td>1</td>\n",
       "      <td>5.0</td>\n",
       "      <td>2</td>\n",
       "      <td>130000</td>\n",
       "      <td>0</td>\n",
       "      <td>16</td>\n",
       "    </tr>\n",
       "    <tr>\n",
       "      <th>5</th>\n",
       "      <td>7.0</td>\n",
       "      <td>45000.0</td>\n",
       "      <td>82</td>\n",
       "      <td>1</td>\n",
       "      <td>5.0</td>\n",
       "      <td>2</td>\n",
       "      <td>440000</td>\n",
       "      <td>0</td>\n",
       "      <td>20</td>\n",
       "    </tr>\n",
       "    <tr>\n",
       "      <th>6</th>\n",
       "      <td>17.0</td>\n",
       "      <td>175000.0</td>\n",
       "      <td>58</td>\n",
       "      <td>1</td>\n",
       "      <td>5.0</td>\n",
       "      <td>0</td>\n",
       "      <td>96000</td>\n",
       "      <td>0</td>\n",
       "      <td>17</td>\n",
       "    </tr>\n",
       "    <tr>\n",
       "      <th>7</th>\n",
       "      <td>23.0</td>\n",
       "      <td>5000.0</td>\n",
       "      <td>37</td>\n",
       "      <td>2</td>\n",
       "      <td>4.0</td>\n",
       "      <td>2</td>\n",
       "      <td>45000</td>\n",
       "      <td>0</td>\n",
       "      <td>16</td>\n",
       "    </tr>\n",
       "    <tr>\n",
       "      <th>8</th>\n",
       "      <td>13.0</td>\n",
       "      <td>90000.0</td>\n",
       "      <td>67</td>\n",
       "      <td>1</td>\n",
       "      <td>5.0</td>\n",
       "      <td>3</td>\n",
       "      <td>350000</td>\n",
       "      <td>0</td>\n",
       "      <td>23</td>\n",
       "    </tr>\n",
       "    <tr>\n",
       "      <th>9</th>\n",
       "      <td>11.0</td>\n",
       "      <td>169000.0</td>\n",
       "      <td>68</td>\n",
       "      <td>1</td>\n",
       "      <td>5.0</td>\n",
       "      <td>3</td>\n",
       "      <td>200000</td>\n",
       "      <td>0</td>\n",
       "      <td>20</td>\n",
       "    </tr>\n",
       "  </tbody>\n",
       "</table>\n",
       "</div>"
      ],
      "text/plain": [
       "   year  km_driven  power  owner  seats  fuel   price  transmission  mileage\n",
       "0  10.0   145500.0     74      1    5.0     3  450000             0       23\n",
       "1  10.0   120000.0    104      2    5.0     3  370000             0       21\n",
       "2  18.0   140000.0     78      3    5.0     2  158000             0       17\n",
       "3  14.0   127000.0     90      1    5.0     3  225000             0       23\n",
       "4  17.0   120000.0     88      1    5.0     2  130000             0       16\n",
       "5   7.0    45000.0     82      1    5.0     2  440000             0       20\n",
       "6  17.0   175000.0     58      1    5.0     0   96000             0       17\n",
       "7  23.0     5000.0     37      2    4.0     2   45000             0       16\n",
       "8  13.0    90000.0     67      1    5.0     3  350000             0       23\n",
       "9  11.0   169000.0     68      1    5.0     3  200000             0       20"
      ]
     },
     "execution_count": 4,
     "metadata": {},
     "output_type": "execute_result"
    }
   ],
   "source": [
    "new_data.head(10)"
   ]
  },
  {
   "cell_type": "code",
   "execution_count": 5,
   "id": "477f6571",
   "metadata": {
    "execution": {
     "iopub.execute_input": "2024-04-11T01:00:36.841801Z",
     "iopub.status.busy": "2024-04-11T01:00:36.841422Z",
     "iopub.status.idle": "2024-04-11T01:00:37.356128Z",
     "shell.execute_reply": "2024-04-11T01:00:37.354710Z"
    },
    "papermill": {
     "duration": 0.523854,
     "end_time": "2024-04-11T01:00:37.359090",
     "exception": false,
     "start_time": "2024-04-11T01:00:36.835236",
     "status": "completed"
    },
    "tags": []
   },
   "outputs": [
    {
     "name": "stdout",
     "output_type": "stream",
     "text": [
      "power\n",
      "74     688\n",
      "67     591\n",
      "82     570\n",
      "89     474\n",
      "99     261\n",
      "      ... \n",
      "162      1\n",
      "156      1\n",
      "155      1\n",
      "282      1\n",
      "135      1\n",
      "Name: count, Length: 145, dtype: int64\n"
     ]
    },
    {
     "data": {
      "text/html": [
       "<style>#sk-container-id-1 {color: black;background-color: white;}#sk-container-id-1 pre{padding: 0;}#sk-container-id-1 div.sk-toggleable {background-color: white;}#sk-container-id-1 label.sk-toggleable__label {cursor: pointer;display: block;width: 100%;margin-bottom: 0;padding: 0.3em;box-sizing: border-box;text-align: center;}#sk-container-id-1 label.sk-toggleable__label-arrow:before {content: \"▸\";float: left;margin-right: 0.25em;color: #696969;}#sk-container-id-1 label.sk-toggleable__label-arrow:hover:before {color: black;}#sk-container-id-1 div.sk-estimator:hover label.sk-toggleable__label-arrow:before {color: black;}#sk-container-id-1 div.sk-toggleable__content {max-height: 0;max-width: 0;overflow: hidden;text-align: left;background-color: #f0f8ff;}#sk-container-id-1 div.sk-toggleable__content pre {margin: 0.2em;color: black;border-radius: 0.25em;background-color: #f0f8ff;}#sk-container-id-1 input.sk-toggleable__control:checked~div.sk-toggleable__content {max-height: 200px;max-width: 100%;overflow: auto;}#sk-container-id-1 input.sk-toggleable__control:checked~label.sk-toggleable__label-arrow:before {content: \"▾\";}#sk-container-id-1 div.sk-estimator input.sk-toggleable__control:checked~label.sk-toggleable__label {background-color: #d4ebff;}#sk-container-id-1 div.sk-label input.sk-toggleable__control:checked~label.sk-toggleable__label {background-color: #d4ebff;}#sk-container-id-1 input.sk-hidden--visually {border: 0;clip: rect(1px 1px 1px 1px);clip: rect(1px, 1px, 1px, 1px);height: 1px;margin: -1px;overflow: hidden;padding: 0;position: absolute;width: 1px;}#sk-container-id-1 div.sk-estimator {font-family: monospace;background-color: #f0f8ff;border: 1px dotted black;border-radius: 0.25em;box-sizing: border-box;margin-bottom: 0.5em;}#sk-container-id-1 div.sk-estimator:hover {background-color: #d4ebff;}#sk-container-id-1 div.sk-parallel-item::after {content: \"\";width: 100%;border-bottom: 1px solid gray;flex-grow: 1;}#sk-container-id-1 div.sk-label:hover label.sk-toggleable__label {background-color: #d4ebff;}#sk-container-id-1 div.sk-serial::before {content: \"\";position: absolute;border-left: 1px solid gray;box-sizing: border-box;top: 0;bottom: 0;left: 50%;z-index: 0;}#sk-container-id-1 div.sk-serial {display: flex;flex-direction: column;align-items: center;background-color: white;padding-right: 0.2em;padding-left: 0.2em;position: relative;}#sk-container-id-1 div.sk-item {position: relative;z-index: 1;}#sk-container-id-1 div.sk-parallel {display: flex;align-items: stretch;justify-content: center;background-color: white;position: relative;}#sk-container-id-1 div.sk-item::before, #sk-container-id-1 div.sk-parallel-item::before {content: \"\";position: absolute;border-left: 1px solid gray;box-sizing: border-box;top: 0;bottom: 0;left: 50%;z-index: -1;}#sk-container-id-1 div.sk-parallel-item {display: flex;flex-direction: column;z-index: 1;position: relative;background-color: white;}#sk-container-id-1 div.sk-parallel-item:first-child::after {align-self: flex-end;width: 50%;}#sk-container-id-1 div.sk-parallel-item:last-child::after {align-self: flex-start;width: 50%;}#sk-container-id-1 div.sk-parallel-item:only-child::after {width: 0;}#sk-container-id-1 div.sk-dashed-wrapped {border: 1px dashed gray;margin: 0 0.4em 0.5em 0.4em;box-sizing: border-box;padding-bottom: 0.4em;background-color: white;}#sk-container-id-1 div.sk-label label {font-family: monospace;font-weight: bold;display: inline-block;line-height: 1.2em;}#sk-container-id-1 div.sk-label-container {text-align: center;}#sk-container-id-1 div.sk-container {/* jupyter's `normalize.less` sets `[hidden] { display: none; }` but bootstrap.min.css set `[hidden] { display: none !important; }` so we also need the `!important` here to be able to override the default hidden behavior on the sphinx rendered scikit-learn.org. See: https://github.com/scikit-learn/scikit-learn/issues/21755 */display: inline-block !important;position: relative;}#sk-container-id-1 div.sk-text-repr-fallback {display: none;}</style><div id=\"sk-container-id-1\" class=\"sk-top-container\"><div class=\"sk-text-repr-fallback\"><pre>LinearRegression()</pre><b>In a Jupyter environment, please rerun this cell to show the HTML representation or trust the notebook. <br />On GitHub, the HTML representation is unable to render, please try loading this page with nbviewer.org.</b></div><div class=\"sk-container\" hidden><div class=\"sk-item\"><div class=\"sk-estimator sk-toggleable\"><input class=\"sk-toggleable__control sk-hidden--visually\" id=\"sk-estimator-id-1\" type=\"checkbox\" checked><label for=\"sk-estimator-id-1\" class=\"sk-toggleable__label sk-toggleable__label-arrow\">LinearRegression</label><div class=\"sk-toggleable__content\"><pre>LinearRegression()</pre></div></div></div></div></div>"
      ],
      "text/plain": [
       "LinearRegression()"
      ]
     },
     "execution_count": 5,
     "metadata": {},
     "output_type": "execute_result"
    }
   ],
   "source": [
    "from sklearn.model_selection import train_test_split\n",
    "from sklearn.linear_model import LinearRegression\n",
    "from sklearn.metrics import mean_absolute_error as mae\n",
    "from sklearn.metrics import r2_score\n",
    "x = new_data.loc[:,[\"km_driven\",\"power\",\"seats\",\"owner\",\"year\",\"fuel\"]]\n",
    "y = new_data.loc[:,\"price\"]\n",
    "trainX,testX,trainY,testY = train_test_split(x,y,random_state = 7,test_size = .2)\n",
    "print(new_data[\"power\"].value_counts())\n",
    "lr = LinearRegression()\n",
    "lr.fit(trainX,trainY)"
   ]
  },
  {
   "cell_type": "code",
   "execution_count": 6,
   "id": "006dfd41",
   "metadata": {
    "execution": {
     "iopub.execute_input": "2024-04-11T01:00:37.371585Z",
     "iopub.status.busy": "2024-04-11T01:00:37.371207Z",
     "iopub.status.idle": "2024-04-11T01:00:37.384221Z",
     "shell.execute_reply": "2024-04-11T01:00:37.382706Z"
    },
    "papermill": {
     "duration": 0.022989,
     "end_time": "2024-04-11T01:00:37.387356",
     "exception": false,
     "start_time": "2024-04-11T01:00:37.364367",
     "status": "completed"
    },
    "tags": []
   },
   "outputs": [
    {
     "data": {
      "text/plain": [
       "0.44220377308088876"
      ]
     },
     "execution_count": 6,
     "metadata": {},
     "output_type": "execute_result"
    }
   ],
   "source": [
    "\n",
    "results = lr.predict(testX)\n",
    "r2_score(results,testY)"
   ]
  },
  {
   "cell_type": "code",
   "execution_count": 7,
   "id": "2c66bcd7",
   "metadata": {
    "execution": {
     "iopub.execute_input": "2024-04-11T01:00:37.422276Z",
     "iopub.status.busy": "2024-04-11T01:00:37.421571Z",
     "iopub.status.idle": "2024-04-11T01:00:37.722146Z",
     "shell.execute_reply": "2024-04-11T01:00:37.720974Z"
    },
    "papermill": {
     "duration": 0.321314,
     "end_time": "2024-04-11T01:00:37.724690",
     "exception": false,
     "start_time": "2024-04-11T01:00:37.403376",
     "status": "completed"
    },
    "tags": []
   },
   "outputs": [
    {
     "data": {
      "text/html": [
       "<style>#sk-container-id-2 {color: black;background-color: white;}#sk-container-id-2 pre{padding: 0;}#sk-container-id-2 div.sk-toggleable {background-color: white;}#sk-container-id-2 label.sk-toggleable__label {cursor: pointer;display: block;width: 100%;margin-bottom: 0;padding: 0.3em;box-sizing: border-box;text-align: center;}#sk-container-id-2 label.sk-toggleable__label-arrow:before {content: \"▸\";float: left;margin-right: 0.25em;color: #696969;}#sk-container-id-2 label.sk-toggleable__label-arrow:hover:before {color: black;}#sk-container-id-2 div.sk-estimator:hover label.sk-toggleable__label-arrow:before {color: black;}#sk-container-id-2 div.sk-toggleable__content {max-height: 0;max-width: 0;overflow: hidden;text-align: left;background-color: #f0f8ff;}#sk-container-id-2 div.sk-toggleable__content pre {margin: 0.2em;color: black;border-radius: 0.25em;background-color: #f0f8ff;}#sk-container-id-2 input.sk-toggleable__control:checked~div.sk-toggleable__content {max-height: 200px;max-width: 100%;overflow: auto;}#sk-container-id-2 input.sk-toggleable__control:checked~label.sk-toggleable__label-arrow:before {content: \"▾\";}#sk-container-id-2 div.sk-estimator input.sk-toggleable__control:checked~label.sk-toggleable__label {background-color: #d4ebff;}#sk-container-id-2 div.sk-label input.sk-toggleable__control:checked~label.sk-toggleable__label {background-color: #d4ebff;}#sk-container-id-2 input.sk-hidden--visually {border: 0;clip: rect(1px 1px 1px 1px);clip: rect(1px, 1px, 1px, 1px);height: 1px;margin: -1px;overflow: hidden;padding: 0;position: absolute;width: 1px;}#sk-container-id-2 div.sk-estimator {font-family: monospace;background-color: #f0f8ff;border: 1px dotted black;border-radius: 0.25em;box-sizing: border-box;margin-bottom: 0.5em;}#sk-container-id-2 div.sk-estimator:hover {background-color: #d4ebff;}#sk-container-id-2 div.sk-parallel-item::after {content: \"\";width: 100%;border-bottom: 1px solid gray;flex-grow: 1;}#sk-container-id-2 div.sk-label:hover label.sk-toggleable__label {background-color: #d4ebff;}#sk-container-id-2 div.sk-serial::before {content: \"\";position: absolute;border-left: 1px solid gray;box-sizing: border-box;top: 0;bottom: 0;left: 50%;z-index: 0;}#sk-container-id-2 div.sk-serial {display: flex;flex-direction: column;align-items: center;background-color: white;padding-right: 0.2em;padding-left: 0.2em;position: relative;}#sk-container-id-2 div.sk-item {position: relative;z-index: 1;}#sk-container-id-2 div.sk-parallel {display: flex;align-items: stretch;justify-content: center;background-color: white;position: relative;}#sk-container-id-2 div.sk-item::before, #sk-container-id-2 div.sk-parallel-item::before {content: \"\";position: absolute;border-left: 1px solid gray;box-sizing: border-box;top: 0;bottom: 0;left: 50%;z-index: -1;}#sk-container-id-2 div.sk-parallel-item {display: flex;flex-direction: column;z-index: 1;position: relative;background-color: white;}#sk-container-id-2 div.sk-parallel-item:first-child::after {align-self: flex-end;width: 50%;}#sk-container-id-2 div.sk-parallel-item:last-child::after {align-self: flex-start;width: 50%;}#sk-container-id-2 div.sk-parallel-item:only-child::after {width: 0;}#sk-container-id-2 div.sk-dashed-wrapped {border: 1px dashed gray;margin: 0 0.4em 0.5em 0.4em;box-sizing: border-box;padding-bottom: 0.4em;background-color: white;}#sk-container-id-2 div.sk-label label {font-family: monospace;font-weight: bold;display: inline-block;line-height: 1.2em;}#sk-container-id-2 div.sk-label-container {text-align: center;}#sk-container-id-2 div.sk-container {/* jupyter's `normalize.less` sets `[hidden] { display: none; }` but bootstrap.min.css set `[hidden] { display: none !important; }` so we also need the `!important` here to be able to override the default hidden behavior on the sphinx rendered scikit-learn.org. See: https://github.com/scikit-learn/scikit-learn/issues/21755 */display: inline-block !important;position: relative;}#sk-container-id-2 div.sk-text-repr-fallback {display: none;}</style><div id=\"sk-container-id-2\" class=\"sk-top-container\"><div class=\"sk-text-repr-fallback\"><pre>DecisionTreeClassifier(random_state=14)</pre><b>In a Jupyter environment, please rerun this cell to show the HTML representation or trust the notebook. <br />On GitHub, the HTML representation is unable to render, please try loading this page with nbviewer.org.</b></div><div class=\"sk-container\" hidden><div class=\"sk-item\"><div class=\"sk-estimator sk-toggleable\"><input class=\"sk-toggleable__control sk-hidden--visually\" id=\"sk-estimator-id-2\" type=\"checkbox\" checked><label for=\"sk-estimator-id-2\" class=\"sk-toggleable__label sk-toggleable__label-arrow\">DecisionTreeClassifier</label><div class=\"sk-toggleable__content\"><pre>DecisionTreeClassifier(random_state=14)</pre></div></div></div></div></div>"
      ],
      "text/plain": [
       "DecisionTreeClassifier(random_state=14)"
      ]
     },
     "execution_count": 7,
     "metadata": {},
     "output_type": "execute_result"
    }
   ],
   "source": [
    "from sklearn.tree import DecisionTreeClassifier as dtc\n",
    "tree = dtc(random_state = 14)\n",
    "tree.fit(trainX,trainY)"
   ]
  },
  {
   "cell_type": "code",
   "execution_count": 8,
   "id": "32c87161",
   "metadata": {
    "execution": {
     "iopub.execute_input": "2024-04-11T01:00:37.737346Z",
     "iopub.status.busy": "2024-04-11T01:00:37.736917Z",
     "iopub.status.idle": "2024-04-11T01:00:37.751313Z",
     "shell.execute_reply": "2024-04-11T01:00:37.750357Z"
    },
    "papermill": {
     "duration": 0.023774,
     "end_time": "2024-04-11T01:00:37.753847",
     "exception": false,
     "start_time": "2024-04-11T01:00:37.730073",
     "status": "completed"
    },
    "tags": []
   },
   "outputs": [
    {
     "data": {
      "text/plain": [
       "0.9379428880905248"
      ]
     },
     "execution_count": 8,
     "metadata": {},
     "output_type": "execute_result"
    }
   ],
   "source": [
    "results = tree.predict(testX)\n",
    "r2_score(results,testY)"
   ]
  },
  {
   "cell_type": "code",
   "execution_count": null,
   "id": "f03147e3",
   "metadata": {
    "papermill": {
     "duration": 0.005269,
     "end_time": "2024-04-11T01:00:37.765079",
     "exception": false,
     "start_time": "2024-04-11T01:00:37.759810",
     "status": "completed"
    },
    "tags": []
   },
   "outputs": [],
   "source": []
  },
  {
   "cell_type": "code",
   "execution_count": 9,
   "id": "c510373d",
   "metadata": {
    "execution": {
     "iopub.execute_input": "2024-04-11T01:00:37.778708Z",
     "iopub.status.busy": "2024-04-11T01:00:37.777687Z",
     "iopub.status.idle": "2024-04-11T01:00:38.150488Z",
     "shell.execute_reply": "2024-04-11T01:00:38.149319Z"
    },
    "papermill": {
     "duration": 0.382199,
     "end_time": "2024-04-11T01:00:38.152842",
     "exception": false,
     "start_time": "2024-04-11T01:00:37.770643",
     "status": "completed"
    },
    "tags": []
   },
   "outputs": [
    {
     "data": {
      "text/plain": [
       "<Axes: xlabel='fuel', ylabel='price'>"
      ]
     },
     "execution_count": 9,
     "metadata": {},
     "output_type": "execute_result"
    },
    {
     "data": {
      "image/png": "[encoded data removed]",
      "text/plain": [
       "<Figure size 640x480 with 1 Axes>"
      ]
     },
     "metadata": {},
     "output_type": "display_data"
    }
   ],
   "source": [
    "#data[\"fuel\"] vs data[\"price\"]\n",
    "sns.barplot(data = data,x = \"fuel\",y = \"price\")\n",
    "#{\"LPG\":0,\"CNG\":1,\"Petrol\":2,\"Diesel\":3}"
   ]
  },
  {
   "cell_type": "code",
   "execution_count": 10,
   "id": "59d975da",
   "metadata": {
    "execution": {
     "iopub.execute_input": "2024-04-11T01:00:38.167275Z",
     "iopub.status.busy": "2024-04-11T01:00:38.166859Z",
     "iopub.status.idle": "2024-04-11T01:00:38.479323Z",
     "shell.execute_reply": "2024-04-11T01:00:38.478213Z"
    },
    "papermill": {
     "duration": 0.322623,
     "end_time": "2024-04-11T01:00:38.481815",
     "exception": false,
     "start_time": "2024-04-11T01:00:38.159192",
     "status": "completed"
    },
    "tags": []
   },
   "outputs": [
    {
     "data": {
      "text/plain": [
       "<Axes: xlabel='power', ylabel='price'>"
      ]
     },
     "execution_count": 10,
     "metadata": {},
     "output_type": "execute_result"
    },
    {
     "data": {
      "image/png": "[encoded data removed]",
      "text/plain": [
       "<Figure size 640x480 with 1 Axes>"
      ]
     },
     "metadata": {},
     "output_type": "display_data"
    }
   ],
   "source": [
    "#data[\"power\"] vs data[\"price\"]\n",
    "sns.scatterplot(data = data,x = \"power\",y = \"price\")\n",
    "#its directly correlated"
   ]
  },
  {
   "cell_type": "code",
   "execution_count": 11,
   "id": "4e538f52",
   "metadata": {
    "execution": {
     "iopub.execute_input": "2024-04-11T01:00:38.497300Z",
     "iopub.status.busy": "2024-04-11T01:00:38.496879Z",
     "iopub.status.idle": "2024-04-11T01:00:38.816076Z",
     "shell.execute_reply": "2024-04-11T01:00:38.814909Z"
    },
    "papermill": {
     "duration": 0.329702,
     "end_time": "2024-04-11T01:00:38.818440",
     "exception": false,
     "start_time": "2024-04-11T01:00:38.488738",
     "status": "completed"
    },
    "tags": []
   },
   "outputs": [
    {
     "data": {
      "text/plain": [
       "<Axes: xlabel='transmission', ylabel='price'>"
      ]
     },
     "execution_count": 11,
     "metadata": {},
     "output_type": "execute_result"
    },
    {
     "data": {
      "image/png": "[encoded data removed]",
      "text/plain": [
       "<Figure size 640x480 with 1 Axes>"
      ]
     },
     "metadata": {},
     "output_type": "display_data"
    }
   ],
   "source": [
    "#data[\"transmission\"] vs data[\"price\"]\n",
    "sns.scatterplot(data = data,x = \"transmission\",y = \"price\")\n"
   ]
  },
  {
   "cell_type": "code",
   "execution_count": null,
   "id": "4ccd15bf",
   "metadata": {
    "papermill": {
     "duration": 0.007103,
     "end_time": "2024-04-11T01:00:38.833006",
     "exception": false,
     "start_time": "2024-04-11T01:00:38.825903",
     "status": "completed"
    },
    "tags": []
   },
   "outputs": [],
   "source": []
  },
  {
   "cell_type": "code",
   "execution_count": null,
   "id": "68c5b9cb",
   "metadata": {
    "papermill": {
     "duration": 0.007151,
     "end_time": "2024-04-11T01:00:38.847601",
     "exception": false,
     "start_time": "2024-04-11T01:00:38.840450",
     "status": "completed"
    },
    "tags": []
   },
   "outputs": [],
   "source": []
  },
  {
   "cell_type": "code",
   "execution_count": null,
   "id": "cdc0bc75",
   "metadata": {
    "papermill": {
     "duration": 0.007045,
     "end_time": "2024-04-11T01:00:38.862992",
     "exception": false,
     "start_time": "2024-04-11T01:00:38.855947",
     "status": "completed"
    },
    "tags": []
   },
   "outputs": [],
   "source": []
  }
 ],
 "metadata": {
  "kaggle": {
   "accelerator": "none",
   "dataSources": [
    {
     "datasetId": 4685067,
     "sourceId": 7963665,
     "sourceType": "datasetVersion"
    }
   ],
   "dockerImageVersionId": 30673,
   "isGpuEnabled": false,
   "isInternetEnabled": true,
   "language": "python",
   "sourceType": "notebook"
  },
  "kernelspec": {
   "display_name": "Python 3",
   "language": "python",
   "name": "python3"
  },
  "language_info": {
   "codemirror_mode": {
    "name": "ipython",
    "version": 3
   },
   "file_extension": ".py",
   "mimetype": "text/x-python",
   "name": "python",
   "nbconvert_exporter": "python",
   "pygments_lexer": "ipython3",
   "version": "3.10.13"
  },
  "papermill": {
   "default_parameters": {},
   "duration": 8.261558,
   "end_time": "2024-04-11T01:00:39.489946",
   "environment_variables": {},
   "exception": null,
   "input_path": "__notebook__.ipynb",
   "output_path": "__notebook__.ipynb",
   "parameters": {},
   "start_time": "2024-04-11T01:00:31.228388",
   "version": "2.5.0"
  }
 },
 "nbformat": 4,
 "nbformat_minor": 5
}
