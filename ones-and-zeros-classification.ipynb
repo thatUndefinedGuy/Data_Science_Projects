{
 "cells": [
  {
   "cell_type": "code",
   "execution_count": 1,
   "id": "a9c5ff97",
   "metadata": {
    "_cell_guid": "b1076dfc-b9ad-4769-8c92-a6c4dae69d19",
    "_uuid": "8f2839f25d086af736a60e9eeb907d3b93b6e0e5",
    "execution": {
     "iopub.execute_input": "2024-04-18T02:48:57.217128Z",
     "iopub.status.busy": "2024-04-18T02:48:57.216579Z",
     "iopub.status.idle": "2024-04-18T02:49:14.916439Z",
     "shell.execute_reply": "2024-04-18T02:49:14.915024Z"
    },
    "papermill": {
     "duration": 17.710264,
     "end_time": "2024-04-18T02:49:14.919524",
     "exception": false,
     "start_time": "2024-04-18T02:48:57.209260",
     "status": "completed"
    },
    "tags": []
   },
   "outputs": [
    {
     "name": "stderr",
     "output_type": "stream",
     "text": [
      "2024-04-18 02:48:59.776677: E external/local_xla/xla/stream_executor/cuda/cuda_dnn.cc:9261] Unable to register cuDNN factory: Attempting to register factory for plugin cuDNN when one has already been registered\n",
      "2024-04-18 02:48:59.776847: E external/local_xla/xla/stream_executor/cuda/cuda_fft.cc:607] Unable to register cuFFT factory: Attempting to register factory for plugin cuFFT when one has already been registered\n",
      "2024-04-18 02:48:59.977827: E external/local_xla/xla/stream_executor/cuda/cuda_blas.cc:1515] Unable to register cuBLAS factory: Attempting to register factory for plugin cuBLAS when one has already been registered\n"
     ]
    }
   ],
   "source": [
    "import numpy as np\n",
    "import tensorflow as tf\n",
    "from tensorflow.keras.models import Sequential\n",
    "from tensorflow.keras.layers import Dense\n",
    "import matplotlib.pyplot as plt\n",
    "import pandas as pd\n",
    "from tensorflow.keras.models import Sequential\n",
    "from tensorflow.keras.layers import Dense"
   ]
  },
  {
   "cell_type": "markdown",
   "id": "2450cbea",
   "metadata": {
    "papermill": {
     "duration": 0.004516,
     "end_time": "2024-04-18T02:49:14.929308",
     "exception": false,
     "start_time": "2024-04-18T02:49:14.924792",
     "status": "completed"
    },
    "tags": []
   },
   "source": [
    "##### Data was taken from a Deeplearning.ai's Advanced Learning Algorithms Lab. I took it to try to understand what Andrew Ng was trying to teach me.\n",
    "I honestly didn't think it would work."
   ]
  },
  {
   "cell_type": "code",
   "execution_count": 2,
   "id": "4e891d84",
   "metadata": {
    "execution": {
     "iopub.execute_input": "2024-04-18T02:49:14.942079Z",
     "iopub.status.busy": "2024-04-18T02:49:14.941246Z",
     "iopub.status.idle": "2024-04-18T02:49:15.306177Z",
     "shell.execute_reply": "2024-04-18T02:49:15.304814Z"
    },
    "papermill": {
     "duration": 0.374543,
     "end_time": "2024-04-18T02:49:15.309004",
     "exception": false,
     "start_time": "2024-04-18T02:49:14.934461",
     "status": "completed"
    },
    "tags": []
   },
   "outputs": [
    {
     "name": "stdout",
     "output_type": "stream",
     "text": [
      "[0.         0.         0.         0.         0.         0.\n",
      " 0.         0.         0.         0.         0.         0.\n",
      " 0.         0.         0.         0.         0.         0.\n",
      " 0.         0.         0.         0.         0.         0.\n",
      " 0.         0.         0.         0.         0.         0.\n",
      " 0.         0.         0.         0.         0.         0.\n",
      " 0.         0.         0.         0.         0.         0.\n",
      " 0.         0.         0.         0.         0.         0.\n",
      " 0.         0.00032286] 1000\n",
      "<class 'numpy.float64'>\n"
     ]
    }
   ],
   "source": [
    "preX = pd.read_csv(\"/kaggle/input/zerosandones/data.csv\")\n",
    "dataX = []\n",
    "for i in range(len(preX.columns)-1):\n",
    "    dataX.append(np.array(list(preX[str(i)])))\n",
    "print(dataX[1][0:50],len(dataX))\n",
    "dataX =np.array(dataX)\n",
    "prey = '0000000000000000000000000000000000000000000000000000000000000000000000000000000000000000000000000000000000000000000000000000000000000000000000000000000000000000000000000000000000000000000000000000000000000000000000000000000000000000000000000000000000000000000000000000000000000000000000000000000000000000000000000000000000000000000000000000000000000000000000000000000000000000000000000000000000000000000000000000000000000000000000000000000000000000000000000000000000000000000000000000000000000000000011111111111111111111111111111111111111111111111111111111111111111111111111111111111111111111111111111111111111111111111111111111111111111111111111111111111111111111111111111111111111111111111111111111111111111111111111111111111111111111111111111111111111111111111111111111111111111111111111111111111111111111111111111111111111111111111111111111111111111111111111111111111111111111111111111111111111111111111111111111111111111111111111111111111111111111111111111111111111111111111111111111111111111111'\n",
    "datay = []\n",
    "for i in prey:\n",
    "    datay.append(np.array([float(i)]))\n",
    "datay = np.array(datay)\n",
    "print(type(datay[0][0]))"
   ]
  },
  {
   "cell_type": "code",
   "execution_count": 3,
   "id": "d5f9435b",
   "metadata": {
    "execution": {
     "iopub.execute_input": "2024-04-18T02:49:15.320956Z",
     "iopub.status.busy": "2024-04-18T02:49:15.320453Z",
     "iopub.status.idle": "2024-04-18T02:49:15.701944Z",
     "shell.execute_reply": "2024-04-18T02:49:15.700459Z"
    },
    "papermill": {
     "duration": 0.39107,
     "end_time": "2024-04-18T02:49:15.705034",
     "exception": false,
     "start_time": "2024-04-18T02:49:15.313964",
     "status": "completed"
    },
    "tags": []
   },
   "outputs": [
    {
     "data": {
      "text/plain": [
       "<matplotlib.image.AxesImage at 0x7c01e7687220>"
      ]
     },
     "execution_count": 3,
     "metadata": {},
     "output_type": "execute_result"
    },
    {
     "data": {
      "image/png": "[encoded data removed]",
      "text/plain": [
       "<Figure size 640x480 with 1 Axes>"
      ]
     },
     "metadata": {},
     "output_type": "display_data"
    }
   ],
   "source": [
    "from matplotlib.pyplot import imshow\n",
    "pic = dataX[77].reshape(20,20)\n",
    "imshow(pic,\"autumn\")"
   ]
  },
  {
   "cell_type": "code",
   "execution_count": 4,
   "id": "a53d8ec7",
   "metadata": {
    "execution": {
     "iopub.execute_input": "2024-04-18T02:49:15.717948Z",
     "iopub.status.busy": "2024-04-18T02:49:15.717439Z",
     "iopub.status.idle": "2024-04-18T02:49:15.817609Z",
     "shell.execute_reply": "2024-04-18T02:49:15.816161Z"
    },
    "papermill": {
     "duration": 0.11054,
     "end_time": "2024-04-18T02:49:15.820868",
     "exception": false,
     "start_time": "2024-04-18T02:49:15.710328",
     "status": "completed"
    },
    "tags": []
   },
   "outputs": [],
   "source": [
    "from tensorflow.keras.models import Sequential\n",
    "from tensorflow.keras.layers import Dense\n",
    "mod = Sequential([\n",
    "    tf.keras.Input(shape=(400,)),\n",
    "    Dense(25,activation = \"sigmoid\"),\n",
    "    Dense(15,activation = \"sigmoid\"),\n",
    "    Dense(1,activation = \"sigmoid\")\n",
    "\n",
    "], name = \"my_model\")"
   ]
  },
  {
   "cell_type": "code",
   "execution_count": 5,
   "id": "e5df572c",
   "metadata": {
    "execution": {
     "iopub.execute_input": "2024-04-18T02:49:15.833798Z",
     "iopub.status.busy": "2024-04-18T02:49:15.833289Z",
     "iopub.status.idle": "2024-04-18T02:49:15.852444Z",
     "shell.execute_reply": "2024-04-18T02:49:15.851157Z"
    },
    "papermill": {
     "duration": 0.029419,
     "end_time": "2024-04-18T02:49:15.855652",
     "exception": false,
     "start_time": "2024-04-18T02:49:15.826233",
     "status": "completed"
    },
    "tags": []
   },
   "outputs": [],
   "source": [
    "mod.compile(\n",
    "    loss=tf.keras.losses.BinaryCrossentropy(),\n",
    "    optimizer=tf.keras.optimizers.Adam(0.001),\n",
    ")\n",
    "\n"
   ]
  },
  {
   "cell_type": "code",
   "execution_count": 6,
   "id": "b445dbe5",
   "metadata": {
    "execution": {
     "iopub.execute_input": "2024-04-18T02:49:15.868788Z",
     "iopub.status.busy": "2024-04-18T02:49:15.868289Z",
     "iopub.status.idle": "2024-04-18T02:49:20.124478Z",
     "shell.execute_reply": "2024-04-18T02:49:20.123176Z"
    },
    "papermill": {
     "duration": 4.265981,
     "end_time": "2024-04-18T02:49:20.127250",
     "exception": false,
     "start_time": "2024-04-18T02:49:15.861269",
     "status": "completed"
    },
    "tags": []
   },
   "outputs": [
    {
     "name": "stdout",
     "output_type": "stream",
     "text": [
      "Epoch 1/20\n",
      "\u001b[1m32/32\u001b[0m \u001b[32m━━━━━━━━━━━━━━━━━━━━\u001b[0m\u001b[37m\u001b[0m \u001b[1m2s\u001b[0m 2ms/step - loss: 0.6618\n",
      "Epoch 2/20\n",
      "\u001b[1m32/32\u001b[0m \u001b[32m━━━━━━━━━━━━━━━━━━━━\u001b[0m\u001b[37m\u001b[0m \u001b[1m0s\u001b[0m 2ms/step - loss: 0.5203\n",
      "Epoch 3/20\n",
      "\u001b[1m32/32\u001b[0m \u001b[32m━━━━━━━━━━━━━━━━━━━━\u001b[0m\u001b[37m\u001b[0m \u001b[1m0s\u001b[0m 2ms/step - loss: 0.3754\n",
      "Epoch 4/20\n",
      "\u001b[1m32/32\u001b[0m \u001b[32m━━━━━━━━━━━━━━━━━━━━\u001b[0m\u001b[37m\u001b[0m \u001b[1m0s\u001b[0m 2ms/step - loss: 0.2563\n",
      "Epoch 5/20\n",
      "\u001b[1m32/32\u001b[0m \u001b[32m━━━━━━━━━━━━━━━━━━━━\u001b[0m\u001b[37m\u001b[0m \u001b[1m0s\u001b[0m 2ms/step - loss: 0.1785\n",
      "Epoch 6/20\n",
      "\u001b[1m32/32\u001b[0m \u001b[32m━━━━━━━━━━━━━━━━━━━━\u001b[0m\u001b[37m\u001b[0m \u001b[1m0s\u001b[0m 2ms/step - loss: 0.1378\n",
      "Epoch 7/20\n",
      "\u001b[1m32/32\u001b[0m \u001b[32m━━━━━━━━━━━━━━━━━━━━\u001b[0m\u001b[37m\u001b[0m \u001b[1m0s\u001b[0m 2ms/step - loss: 0.1066\n",
      "Epoch 8/20\n",
      "\u001b[1m32/32\u001b[0m \u001b[32m━━━━━━━━━━━━━━━━━━━━\u001b[0m\u001b[37m\u001b[0m \u001b[1m0s\u001b[0m 2ms/step - loss: 0.0873\n",
      "Epoch 9/20\n",
      "\u001b[1m32/32\u001b[0m \u001b[32m━━━━━━━━━━━━━━━━━━━━\u001b[0m\u001b[37m\u001b[0m \u001b[1m0s\u001b[0m 2ms/step - loss: 0.0726\n",
      "Epoch 10/20\n",
      "\u001b[1m32/32\u001b[0m \u001b[32m━━━━━━━━━━━━━━━━━━━━\u001b[0m\u001b[37m\u001b[0m \u001b[1m0s\u001b[0m 2ms/step - loss: 0.0685\n",
      "Epoch 11/20\n",
      "\u001b[1m32/32\u001b[0m \u001b[32m━━━━━━━━━━━━━━━━━━━━\u001b[0m\u001b[37m\u001b[0m \u001b[1m0s\u001b[0m 2ms/step - loss: 0.0540\n",
      "Epoch 12/20\n",
      "\u001b[1m32/32\u001b[0m \u001b[32m━━━━━━━━━━━━━━━━━━━━\u001b[0m\u001b[37m\u001b[0m \u001b[1m0s\u001b[0m 2ms/step - loss: 0.0492\n",
      "Epoch 13/20\n",
      "\u001b[1m32/32\u001b[0m \u001b[32m━━━━━━━━━━━━━━━━━━━━\u001b[0m\u001b[37m\u001b[0m \u001b[1m0s\u001b[0m 2ms/step - loss: 0.0399\n",
      "Epoch 14/20\n",
      "\u001b[1m32/32\u001b[0m \u001b[32m━━━━━━━━━━━━━━━━━━━━\u001b[0m\u001b[37m\u001b[0m \u001b[1m0s\u001b[0m 2ms/step - loss: 0.0381\n",
      "Epoch 15/20\n",
      "\u001b[1m32/32\u001b[0m \u001b[32m━━━━━━━━━━━━━━━━━━━━\u001b[0m\u001b[37m\u001b[0m \u001b[1m0s\u001b[0m 2ms/step - loss: 0.0392\n",
      "Epoch 16/20\n",
      "\u001b[1m32/32\u001b[0m \u001b[32m━━━━━━━━━━━━━━━━━━━━\u001b[0m\u001b[37m\u001b[0m \u001b[1m0s\u001b[0m 2ms/step - loss: 0.0331\n",
      "Epoch 17/20\n",
      "\u001b[1m32/32\u001b[0m \u001b[32m━━━━━━━━━━━━━━━━━━━━\u001b[0m\u001b[37m\u001b[0m \u001b[1m0s\u001b[0m 2ms/step - loss: 0.0296\n",
      "Epoch 18/20\n",
      "\u001b[1m32/32\u001b[0m \u001b[32m━━━━━━━━━━━━━━━━━━━━\u001b[0m\u001b[37m\u001b[0m \u001b[1m0s\u001b[0m 2ms/step - loss: 0.0293\n",
      "Epoch 19/20\n",
      "\u001b[1m32/32\u001b[0m \u001b[32m━━━━━━━━━━━━━━━━━━━━\u001b[0m\u001b[37m\u001b[0m \u001b[1m0s\u001b[0m 2ms/step - loss: 0.0226\n",
      "Epoch 20/20\n",
      "\u001b[1m32/32\u001b[0m \u001b[32m━━━━━━━━━━━━━━━━━━━━\u001b[0m\u001b[37m\u001b[0m \u001b[1m0s\u001b[0m 2ms/step - loss: 0.0264\n"
     ]
    },
    {
     "data": {
      "text/plain": [
       "<keras.src.callbacks.history.History at 0x7c01e52ae9b0>"
      ]
     },
     "execution_count": 6,
     "metadata": {},
     "output_type": "execute_result"
    }
   ],
   "source": [
    "mod.fit(\n",
    "    dataX,\n",
    "    datay,\n",
    "    epochs=20\n",
    ")"
   ]
  },
  {
   "cell_type": "code",
   "execution_count": 7,
   "id": "d7a5dc1f",
   "metadata": {
    "execution": {
     "iopub.execute_input": "2024-04-18T02:49:20.155845Z",
     "iopub.status.busy": "2024-04-18T02:49:20.155305Z",
     "iopub.status.idle": "2024-04-18T02:49:20.634589Z",
     "shell.execute_reply": "2024-04-18T02:49:20.633020Z"
    },
    "papermill": {
     "duration": 0.497171,
     "end_time": "2024-04-18T02:49:20.637490",
     "exception": false,
     "start_time": "2024-04-18T02:49:20.140319",
     "status": "completed"
    },
    "tags": []
   },
   "outputs": [
    {
     "name": "stdout",
     "output_type": "stream",
     "text": [
      "\u001b[1m1/1\u001b[0m \u001b[32m━━━━━━━━━━━━━━━━━━━━\u001b[0m\u001b[37m\u001b[0m \u001b[1m0s\u001b[0m 64ms/step\n",
      "The computer is 98% sure this is a zero\n"
     ]
    },
    {
     "name": "stderr",
     "output_type": "stream",
     "text": [
      "/tmp/ipykernel_18/2944208107.py:1: DeprecationWarning: Conversion of an array with ndim > 0 to a scalar is deprecated, and will error in future. Ensure you extract a single element from your array before performing this operation. (Deprecated NumPy 1.25.)\n",
      "  result = 1 - float(mod.predict(dataX[0].reshape(1,400)))\n"
     ]
    },
    {
     "data": {
      "text/plain": [
       "<matplotlib.image.AxesImage at 0x7c01e52af460>"
      ]
     },
     "execution_count": 7,
     "metadata": {},
     "output_type": "execute_result"
    },
    {
     "data": {
      "image/png": "[encoded data removed]",
      "text/plain": [
       "<Figure size 640x480 with 1 Axes>"
      ]
     },
     "metadata": {},
     "output_type": "display_data"
    }
   ],
   "source": [
    "result = 1 - float(mod.predict(dataX[0].reshape(1,400)))\n",
    "print(\"The computer is \" + str(round(result * 100 )) + \"% sure this is a zero\")\n",
    "imshow(dataX[0].reshape(20,20),\"autumn\")"
   ]
  },
  {
   "cell_type": "code",
   "execution_count": 8,
   "id": "d3f84070",
   "metadata": {
    "execution": {
     "iopub.execute_input": "2024-04-18T02:49:20.669868Z",
     "iopub.status.busy": "2024-04-18T02:49:20.668818Z",
     "iopub.status.idle": "2024-04-18T02:49:21.098555Z",
     "shell.execute_reply": "2024-04-18T02:49:21.097165Z"
    },
    "papermill": {
     "duration": 0.449409,
     "end_time": "2024-04-18T02:49:21.101560",
     "exception": false,
     "start_time": "2024-04-18T02:49:20.652151",
     "status": "completed"
    },
    "tags": []
   },
   "outputs": [
    {
     "name": "stdout",
     "output_type": "stream",
     "text": [
      "\u001b[1m1/1\u001b[0m \u001b[32m━━━━━━━━━━━━━━━━━━━━\u001b[0m\u001b[37m\u001b[0m \u001b[1m0s\u001b[0m 21ms/step\n",
      "The computer is 98% sure that this is a one\n"
     ]
    },
    {
     "name": "stderr",
     "output_type": "stream",
     "text": [
      "/tmp/ipykernel_18/3672619303.py:1: DeprecationWarning: Conversion of an array with ndim > 0 to a scalar is deprecated, and will error in future. Ensure you extract a single element from your array before performing this operation. (Deprecated NumPy 1.25.)\n",
      "  result = float(mod.predict(dataX[600].reshape(1,400)))\n"
     ]
    },
    {
     "data": {
      "text/plain": [
       "<matplotlib.image.AxesImage at 0x7c01dc15e7d0>"
      ]
     },
     "execution_count": 8,
     "metadata": {},
     "output_type": "execute_result"
    },
    {
     "data": {
      "image/png": "[encoded data removed]",
      "text/plain": [
       "<Figure size 640x480 with 1 Axes>"
      ]
     },
     "metadata": {},
     "output_type": "display_data"
    }
   ],
   "source": [
    "result = float(mod.predict(dataX[600].reshape(1,400)))\n",
    "print(\"The computer is \" + str(round(result * 100) ) + \"% sure that this is a one\")\n",
    "imshow(dataX[600].reshape(20,20),\"autumn\")\n"
   ]
  },
  {
   "cell_type": "code",
   "execution_count": null,
   "id": "275d32fc",
   "metadata": {
    "papermill": {
     "duration": 0.01435,
     "end_time": "2024-04-18T02:49:21.132861",
     "exception": false,
     "start_time": "2024-04-18T02:49:21.118511",
     "status": "completed"
    },
    "tags": []
   },
   "outputs": [],
   "source": []
  }
 ],
 "metadata": {
  "kaggle": {
   "accelerator": "none",
   "dataSources": [
    {
     "datasetId": 4820614,
     "sourceId": 8150845,
     "sourceType": "datasetVersion"
    }
   ],
   "dockerImageVersionId": 30684,
   "isGpuEnabled": false,
   "isInternetEnabled": true,
   "language": "python",
   "sourceType": "notebook"
  },
  "kernelspec": {
   "display_name": "Python 3",
   "language": "python",
   "name": "python3"
  },
  "language_info": {
   "codemirror_mode": {
    "name": "ipython",
    "version": 3
   },
   "file_extension": ".py",
   "mimetype": "text/x-python",
   "name": "python",
   "nbconvert_exporter": "python",
   "pygments_lexer": "ipython3",
   "version": "3.10.13"
  },
  "papermill": {
   "default_parameters": {},
   "duration": 30.286537,
   "end_time": "2024-04-18T02:49:24.011287",
   "environment_variables": {},
   "exception": null,
   "input_path": "__notebook__.ipynb",
   "output_path": "__notebook__.ipynb",
   "parameters": {},
   "start_time": "2024-04-18T02:48:53.724750",
   "version": "2.5.0"
  }
 },
 "nbformat": 4,
 "nbformat_minor": 5
}
