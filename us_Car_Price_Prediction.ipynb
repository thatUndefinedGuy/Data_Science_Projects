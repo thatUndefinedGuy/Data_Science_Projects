{
 "cells": [
  {
   "cell_type": "markdown",
   "id": "4f7ea141",
   "metadata": {
    "_cell_guid": "b1076dfc-b9ad-4769-8c92-a6c4dae69d19",
    "_uuid": "8f2839f25d086af736a60e9eeb907d3b93b6e0e5",
    "execution": {
     "iopub.execute_input": "2024-04-05T01:47:38.861232Z",
     "iopub.status.busy": "2024-04-05T01:47:38.860810Z",
     "iopub.status.idle": "2024-04-05T01:47:38.877864Z",
     "shell.execute_reply": "2024-04-05T01:47:38.876578Z",
     "shell.execute_reply.started": "2024-04-05T01:47:38.861198Z"
    },
    "papermill": {
     "duration": 0.008754,
     "end_time": "2024-04-08T01:56:01.482602",
     "exception": false,
     "start_time": "2024-04-08T01:56:01.473848",
     "status": "completed"
    },
    "tags": []
   },
   "source": [
    "# Data Collection"
   ]
  },
  {
   "cell_type": "code",
   "execution_count": 1,
   "id": "7248775b",
   "metadata": {
    "execution": {
     "iopub.execute_input": "2024-04-08T01:56:01.500154Z",
     "iopub.status.busy": "2024-04-08T01:56:01.499724Z",
     "iopub.status.idle": "2024-04-08T01:56:04.707076Z",
     "shell.execute_reply": "2024-04-08T01:56:04.705684Z"
    },
    "papermill": {
     "duration": 3.219545,
     "end_time": "2024-04-08T01:56:04.710076",
     "exception": false,
     "start_time": "2024-04-08T01:56:01.490531",
     "status": "completed"
    },
    "tags": []
   },
   "outputs": [
    {
     "data": {
      "text/html": [
       "<div>\n",
       "<style scoped>\n",
       "    .dataframe tbody tr th:only-of-type {\n",
       "        vertical-align: middle;\n",
       "    }\n",
       "\n",
       "    .dataframe tbody tr th {\n",
       "        vertical-align: top;\n",
       "    }\n",
       "\n",
       "    .dataframe thead th {\n",
       "        text-align: right;\n",
       "    }\n",
       "</style>\n",
       "<table border=\"1\" class=\"dataframe\">\n",
       "  <thead>\n",
       "    <tr style=\"text-align: right;\">\n",
       "      <th></th>\n",
       "      <th>Brand</th>\n",
       "      <th>Model</th>\n",
       "      <th>Year</th>\n",
       "      <th>Status</th>\n",
       "      <th>Mileage</th>\n",
       "      <th>Dealer</th>\n",
       "      <th>Price</th>\n",
       "    </tr>\n",
       "  </thead>\n",
       "  <tbody>\n",
       "    <tr>\n",
       "      <th>0</th>\n",
       "      <td>Mazda</td>\n",
       "      <td>CX-5</td>\n",
       "      <td>2023</td>\n",
       "      <td>New</td>\n",
       "      <td>NaN</td>\n",
       "      <td>NaN</td>\n",
       "      <td>36703.0</td>\n",
       "    </tr>\n",
       "    <tr>\n",
       "      <th>1</th>\n",
       "      <td>Kia</td>\n",
       "      <td>Sportage</td>\n",
       "      <td>2023</td>\n",
       "      <td>New</td>\n",
       "      <td>NaN</td>\n",
       "      <td>Classic Kia</td>\n",
       "      <td>28990.0</td>\n",
       "    </tr>\n",
       "    <tr>\n",
       "      <th>2</th>\n",
       "      <td>Chevrolet</td>\n",
       "      <td>Camaro</td>\n",
       "      <td>2024</td>\n",
       "      <td>New</td>\n",
       "      <td>NaN</td>\n",
       "      <td>Classic Chevrolet Beaumont</td>\n",
       "      <td>41425.0</td>\n",
       "    </tr>\n",
       "    <tr>\n",
       "      <th>3</th>\n",
       "      <td>Ford</td>\n",
       "      <td>Bronco</td>\n",
       "      <td>2023</td>\n",
       "      <td>Used</td>\n",
       "      <td>1551.0</td>\n",
       "      <td>Mike Smith Chrysler Dodge Jeep RAM</td>\n",
       "      <td>58900.0</td>\n",
       "    </tr>\n",
       "    <tr>\n",
       "      <th>4</th>\n",
       "      <td>Acura</td>\n",
       "      <td>TLX</td>\n",
       "      <td>2021</td>\n",
       "      <td>Used</td>\n",
       "      <td>30384.0</td>\n",
       "      <td>Mike Smith Nissan</td>\n",
       "      <td>34499.0</td>\n",
       "    </tr>\n",
       "    <tr>\n",
       "      <th>5</th>\n",
       "      <td>Volkswagen</td>\n",
       "      <td>Golf</td>\n",
       "      <td>2022</td>\n",
       "      <td>Certified</td>\n",
       "      <td>13895.0</td>\n",
       "      <td>Volkswagen of Beaumont</td>\n",
       "      <td>34000.0</td>\n",
       "    </tr>\n",
       "    <tr>\n",
       "      <th>6</th>\n",
       "      <td>GMC</td>\n",
       "      <td>Yukon</td>\n",
       "      <td>2021</td>\n",
       "      <td>Used</td>\n",
       "      <td>68506.0</td>\n",
       "      <td>BMW of Beaumont</td>\n",
       "      <td>56954.0</td>\n",
       "    </tr>\n",
       "    <tr>\n",
       "      <th>7</th>\n",
       "      <td>BMW</td>\n",
       "      <td>M340</td>\n",
       "      <td>2023</td>\n",
       "      <td>New</td>\n",
       "      <td>NaN</td>\n",
       "      <td>BMW of Beaumont</td>\n",
       "      <td>61715.0</td>\n",
       "    </tr>\n",
       "    <tr>\n",
       "      <th>8</th>\n",
       "      <td>Hyundai</td>\n",
       "      <td>Sonata</td>\n",
       "      <td>2023</td>\n",
       "      <td>New</td>\n",
       "      <td>NaN</td>\n",
       "      <td>Hyundai of Silsbee</td>\n",
       "      <td>37945.0</td>\n",
       "    </tr>\n",
       "    <tr>\n",
       "      <th>9</th>\n",
       "      <td>Hyundai</td>\n",
       "      <td>Sonata</td>\n",
       "      <td>2023</td>\n",
       "      <td>New</td>\n",
       "      <td>NaN</td>\n",
       "      <td>Hyundai of Silsbee</td>\n",
       "      <td>33495.0</td>\n",
       "    </tr>\n",
       "  </tbody>\n",
       "</table>\n",
       "</div>"
      ],
      "text/plain": [
       "        Brand     Model  Year     Status  Mileage  \\\n",
       "0       Mazda      CX-5  2023        New      NaN   \n",
       "1         Kia  Sportage  2023        New      NaN   \n",
       "2   Chevrolet    Camaro  2024        New      NaN   \n",
       "3        Ford    Bronco  2023       Used   1551.0   \n",
       "4       Acura       TLX  2021       Used  30384.0   \n",
       "5  Volkswagen      Golf  2022  Certified  13895.0   \n",
       "6         GMC     Yukon  2021       Used  68506.0   \n",
       "7         BMW      M340  2023        New      NaN   \n",
       "8     Hyundai    Sonata  2023        New      NaN   \n",
       "9     Hyundai    Sonata  2023        New      NaN   \n",
       "\n",
       "                               Dealer    Price  \n",
       "0                                 NaN  36703.0  \n",
       "1                         Classic Kia  28990.0  \n",
       "2          Classic Chevrolet Beaumont  41425.0  \n",
       "3  Mike Smith Chrysler Dodge Jeep RAM  58900.0  \n",
       "4                   Mike Smith Nissan  34499.0  \n",
       "5              Volkswagen of Beaumont  34000.0  \n",
       "6                     BMW of Beaumont  56954.0  \n",
       "7                     BMW of Beaumont  61715.0  \n",
       "8                  Hyundai of Silsbee  37945.0  \n",
       "9                  Hyundai of Silsbee  33495.0  "
      ]
     },
     "execution_count": 1,
     "metadata": {},
     "output_type": "execute_result"
    }
   ],
   "source": [
    "import pandas as pd\n",
    "import numpy as np\n",
    "import seaborn as sns\n",
    "data = pd.read_csv('/kaggle/input/us-sales-cars-dataset/cars.csv', encoding='utf-16', sep=',')\n",
    "data.head(10)"
   ]
  },
  {
   "cell_type": "markdown",
   "id": "d46affc1",
   "metadata": {
    "papermill": {
     "duration": 0.008329,
     "end_time": "2024-04-08T01:56:04.726922",
     "exception": false,
     "start_time": "2024-04-08T01:56:04.718593",
     "status": "completed"
    },
    "tags": []
   },
   "source": [
    "# Data Cleaning"
   ]
  },
  {
   "cell_type": "code",
   "execution_count": 2,
   "id": "fcbaa99f",
   "metadata": {
    "execution": {
     "iopub.execute_input": "2024-04-08T01:56:04.745483Z",
     "iopub.status.busy": "2024-04-08T01:56:04.745056Z",
     "iopub.status.idle": "2024-04-08T01:56:04.897916Z",
     "shell.execute_reply": "2024-04-08T01:56:04.896873Z"
    },
    "papermill": {
     "duration": 0.165585,
     "end_time": "2024-04-08T01:56:04.900776",
     "exception": false,
     "start_time": "2024-04-08T01:56:04.735191",
     "status": "completed"
    },
    "tags": []
   },
   "outputs": [],
   "source": [
    "#fixing the mileage column\n",
    "def fixMile(line):\n",
    "    \n",
    "    if str(line) == \"nan\":\n",
    "        return 0\n",
    "    return line\n",
    "data[\"Mileage\"] = data[\"Mileage\"].apply(fixMile)"
   ]
  },
  {
   "cell_type": "code",
   "execution_count": 3,
   "id": "0a1f2d3b",
   "metadata": {
    "execution": {
     "iopub.execute_input": "2024-04-08T01:56:04.918368Z",
     "iopub.status.busy": "2024-04-08T01:56:04.917973Z",
     "iopub.status.idle": "2024-04-08T01:56:05.072230Z",
     "shell.execute_reply": "2024-04-08T01:56:05.071049Z"
    },
    "papermill": {
     "duration": 0.166145,
     "end_time": "2024-04-08T01:56:05.074888",
     "exception": false,
     "start_time": "2024-04-08T01:56:04.908743",
     "status": "completed"
    },
    "tags": []
   },
   "outputs": [
    {
     "data": {
      "text/plain": [
       "Brand\n",
       "ford          17504\n",
       "chevrolet     14827\n",
       "toyota        14573\n",
       "jeep           8466\n",
       "gmc            7529\n",
       "bmw            7233\n",
       "honda          6168\n",
       "mercedes       5830\n",
       "other          5415\n",
       "lexus          5385\n",
       "ram            5215\n",
       "kia            4746\n",
       "audi           4679\n",
       "nissan         4270\n",
       "mazda          3376\n",
       "hyundai        3353\n",
       "cadillac       3307\n",
       "volkswagen     3135\n",
       "dodge          3118\n",
       "subaru         2618\n",
       "land rover     2224\n",
       "acura          2037\n",
       "volvo          1848\n",
       "porsche        1698\n",
       "lincoln        1480\n",
       "infiniti       1447\n",
       "buick          1296\n",
       "tesla          1026\n",
       "jaguar          721\n",
       "mini            343\n",
       "Name: count, dtype: int64"
      ]
     },
     "execution_count": 3,
     "metadata": {},
     "output_type": "execute_result"
    }
   ],
   "source": [
    "#fixing the brands column\n",
    "brands = ['mazda', 'kia', 'chevrolet', 'ford', 'acura', 'volkswagen', 'gmc', 'bmw', 'hyundai', 'jeep', 'dodge', 'cadillac', 'infiniti', 'honda', 'lexus', 'toyota', 'buick', 'lincoln', 'mini', 'ram', 'land rover', 'audi', 'nissan', 'mercedes', 'porsche', 'subaru', 'jaguar', 'tesla', 'volvo']\n",
    "def fixBrands(line):\n",
    "    if line.lower() not in brands:\n",
    "        return \"other\"\n",
    "    return line.lower()\n",
    "data[\"Brand\"] = data[\"Brand\"].apply(fixBrands)\n",
    "data[\"Brand\"].value_counts()"
   ]
  },
  {
   "cell_type": "code",
   "execution_count": 4,
   "id": "1de54573",
   "metadata": {
    "execution": {
     "iopub.execute_input": "2024-04-08T01:56:05.094326Z",
     "iopub.status.busy": "2024-04-08T01:56:05.093570Z",
     "iopub.status.idle": "2024-04-08T01:56:05.258954Z",
     "shell.execute_reply": "2024-04-08T01:56:05.256699Z"
    },
    "papermill": {
     "duration": 0.179207,
     "end_time": "2024-04-08T01:56:05.262333",
     "exception": false,
     "start_time": "2024-04-08T01:56:05.083126",
     "status": "completed"
    },
    "tags": []
   },
   "outputs": [
    {
     "name": "stdout",
     "output_type": "stream",
     "text": [
      "To anyone that might be listening, this is the oldest car in the dataset. it is a Used Buick LeSabre from 1968\n",
      "        Brand    Model  Year Status  Mileage              Dealer    Price\n",
      "143651  buick  LeSabre  1968   Used   2393.0  Bob Johnson Toyota  12989.0\n"
     ]
    },
    {
     "data": {
      "text/plain": [
       "array([ 1,  0,  3,  2,  5,  7, 12,  4, 16, 11,  9,  6, 21, 14, 10, 13, 18,\n",
       "       17, 15,  8, 19, 20, 25, 32, 24, 23, 54, 31, 22, 29, 26, 27, 34, 30,\n",
       "       28, 47, 33, 51, 55, 37, 36, 42, 53, 49, 45, 48, 52, 50, 46, 39, 40,\n",
       "       35, 38, 57, 58, 65, 41, 56])"
      ]
     },
     "execution_count": 4,
     "metadata": {},
     "output_type": "execute_result"
    }
   ],
   "source": [
    "#fixing year column\n",
    "print(\"To anyone that might be listening, this is the oldest car in the dataset. it is a Used Buick LeSabre from 1968\")\n",
    "print(data.loc[data[\"Year\"] == 1968])\n",
    "def fixYear(line):\n",
    "    if line > 1900:\n",
    "        return 2024 - int(line)\n",
    "    return line\n",
    "data[\"Year\"] = data[\"Year\"].apply(fixYear)\n",
    "data[\"Year\"].unique()"
   ]
  },
  {
   "cell_type": "code",
   "execution_count": 5,
   "id": "3ce77767",
   "metadata": {
    "execution": {
     "iopub.execute_input": "2024-04-08T01:56:05.283013Z",
     "iopub.status.busy": "2024-04-08T01:56:05.281634Z",
     "iopub.status.idle": "2024-04-08T01:56:05.417292Z",
     "shell.execute_reply": "2024-04-08T01:56:05.416281Z"
    },
    "papermill": {
     "duration": 0.148814,
     "end_time": "2024-04-08T01:56:05.419863",
     "exception": false,
     "start_time": "2024-04-08T01:56:05.271049",
     "status": "completed"
    },
    "tags": []
   },
   "outputs": [
    {
     "data": {
      "text/plain": [
       "Status\n",
       "1    96560\n",
       "0    48307\n",
       "Name: count, dtype: int64"
      ]
     },
     "execution_count": 5,
     "metadata": {},
     "output_type": "execute_result"
    }
   ],
   "source": [
    "#fixing status\n",
    "def fixStatus(line):\n",
    "    if line == \"Certified\" or line == \"New\":\n",
    "        return 1\n",
    "    return 0\n",
    "data[\"Status\"] = data[\"Status\"].apply(fixStatus)\n",
    "data[\"Status\"].value_counts()"
   ]
  },
  {
   "cell_type": "code",
   "execution_count": 6,
   "id": "198bb0f2",
   "metadata": {
    "execution": {
     "iopub.execute_input": "2024-04-08T01:56:05.440659Z",
     "iopub.status.busy": "2024-04-08T01:56:05.439417Z",
     "iopub.status.idle": "2024-04-08T01:56:05.588020Z",
     "shell.execute_reply": "2024-04-08T01:56:05.586904Z"
    },
    "papermill": {
     "duration": 0.162222,
     "end_time": "2024-04-08T01:56:05.590780",
     "exception": false,
     "start_time": "2024-04-08T01:56:05.428558",
     "status": "completed"
    },
    "tags": []
   },
   "outputs": [
    {
     "name": "stdout",
     "output_type": "stream",
     "text": [
      "[ 36703  28990  41425 ... 127240 122455 125930]\n"
     ]
    }
   ],
   "source": [
    "#fixing price\n",
    "def fixPrice(line):\n",
    "    try:\n",
    "        return int(line)\n",
    "    except:\n",
    "        return int(-1)\n",
    "data[\"Price\"] = data[\"Price\"].apply(fixPrice)\n",
    "data = data.loc[data[\"Price\"] != -1]\n",
    "print(data[\"Price\"].unique())"
   ]
  },
  {
   "cell_type": "code",
   "execution_count": 7,
   "id": "b0ef9137",
   "metadata": {
    "execution": {
     "iopub.execute_input": "2024-04-08T01:56:05.611479Z",
     "iopub.status.busy": "2024-04-08T01:56:05.610493Z",
     "iopub.status.idle": "2024-04-08T01:56:05.655034Z",
     "shell.execute_reply": "2024-04-08T01:56:05.653876Z"
    },
    "papermill": {
     "duration": 0.057842,
     "end_time": "2024-04-08T01:56:05.657566",
     "exception": false,
     "start_time": "2024-04-08T01:56:05.599724",
     "status": "completed"
    },
    "tags": []
   },
   "outputs": [
    {
     "data": {
      "text/plain": [
       "Brand\n",
       "ford          17039\n",
       "chevrolet     14398\n",
       "toyota        13974\n",
       "jeep           8283\n",
       "gmc            7270\n",
       "bmw            7144\n",
       "honda          5948\n",
       "mercedes       5736\n",
       "other          5261\n",
       "lexus          5247\n",
       "ram            5073\n",
       "kia            4622\n",
       "audi           4532\n",
       "nissan         4195\n",
       "hyundai        3297\n",
       "mazda          3254\n",
       "cadillac       3138\n",
       "volkswagen     3062\n",
       "dodge          3045\n",
       "subaru         2541\n",
       "land rover     2182\n",
       "acura          1997\n",
       "volvo          1811\n",
       "porsche        1696\n",
       "lincoln        1439\n",
       "infiniti       1439\n",
       "buick          1265\n",
       "tesla          1026\n",
       "jaguar          701\n",
       "mini            341\n",
       "Name: count, dtype: int64"
      ]
     },
     "execution_count": 7,
     "metadata": {},
     "output_type": "execute_result"
    }
   ],
   "source": [
    "new_data = data.loc[:,[\"Brand\",\"Year\",\"Status\",\"Mileage\",\"Price\"]]\n",
    "\n",
    "new_data[\"Brand\"].value_counts()"
   ]
  },
  {
   "cell_type": "markdown",
   "id": "3a1afcf6",
   "metadata": {
    "papermill": {
     "duration": 0.008581,
     "end_time": "2024-04-08T01:56:05.675025",
     "exception": false,
     "start_time": "2024-04-08T01:56:05.666444",
     "status": "completed"
    },
    "tags": []
   },
   "source": [
    "# Visualizing data"
   ]
  },
  {
   "cell_type": "code",
   "execution_count": 8,
   "id": "0fb3e52f",
   "metadata": {
    "execution": {
     "iopub.execute_input": "2024-04-08T01:56:05.694568Z",
     "iopub.status.busy": "2024-04-08T01:56:05.694119Z",
     "iopub.status.idle": "2024-04-08T01:56:08.469304Z",
     "shell.execute_reply": "2024-04-08T01:56:08.468453Z"
    },
    "papermill": {
     "duration": 2.78933,
     "end_time": "2024-04-08T01:56:08.473052",
     "exception": false,
     "start_time": "2024-04-08T01:56:05.683722",
     "status": "completed"
    },
    "tags": []
   },
   "outputs": [
    {
     "name": "stdout",
     "output_type": "stream",
     "text": [
      "Brand vs. Price\n",
      "Axes(0.125,0.11;0.775x0.77)\n"
     ]
    },
    {
     "data": {
      "image/png": "[encoded data removed]",
      "text/plain": [
       "<Figure size 640x480 with 1 Axes>"
      ]
     },
     "metadata": {},
     "output_type": "display_data"
    }
   ],
   "source": [
    "print(\"Brand vs. Price\")\n",
    "plot = sns.barplot(data = new_data,x = \"Brand\",y=\"Price\")\n",
    "plot.set_xticklabels(plot.get_xticklabels(), rotation=90)\n",
    "print(plot)"
   ]
  },
  {
   "cell_type": "code",
   "execution_count": 9,
   "id": "176ec8c4",
   "metadata": {
    "execution": {
     "iopub.execute_input": "2024-04-08T01:56:08.503312Z",
     "iopub.status.busy": "2024-04-08T01:56:08.502341Z",
     "iopub.status.idle": "2024-04-08T01:56:11.619383Z",
     "shell.execute_reply": "2024-04-08T01:56:11.618085Z"
    },
    "papermill": {
     "duration": 3.134002,
     "end_time": "2024-04-08T01:56:11.621951",
     "exception": false,
     "start_time": "2024-04-08T01:56:08.487949",
     "status": "completed"
    },
    "tags": []
   },
   "outputs": [
    {
     "name": "stdout",
     "output_type": "stream",
     "text": [
      "Year vs. Price\n"
     ]
    },
    {
     "name": "stderr",
     "output_type": "stream",
     "text": [
      "/opt/conda/lib/python3.10/site-packages/seaborn/_oldcore.py:1119: FutureWarning: use_inf_as_na option is deprecated and will be removed in a future version. Convert inf values to NaN before operating instead.\n",
      "  with pd.option_context('mode.use_inf_as_na', True):\n",
      "/opt/conda/lib/python3.10/site-packages/seaborn/_oldcore.py:1119: FutureWarning: use_inf_as_na option is deprecated and will be removed in a future version. Convert inf values to NaN before operating instead.\n",
      "  with pd.option_context('mode.use_inf_as_na', True):\n"
     ]
    },
    {
     "name": "stdout",
     "output_type": "stream",
     "text": [
      "Note: there is less data for the older cars. Half the data is for cars made 0 to 10 years ago, and cars made 50-60 years ago have one car each to represent two years \n"
     ]
    },
    {
     "data": {
      "image/png": "[encoded data removed]",
      "text/plain": [
       "<Figure size 640x480 with 1 Axes>"
      ]
     },
     "metadata": {},
     "output_type": "display_data"
    }
   ],
   "source": [
    "print(\"Year vs. Price\")\n",
    "sns.lineplot(data = new_data,x = \"Year\",y = \"Price\")\n",
    "print(\"Note: there is less data for the older cars. Half the data is for cars made 0 to 10 years ago, and cars made 50-60 years ago have one car each to represent two years \")"
   ]
  },
  {
   "cell_type": "code",
   "execution_count": 10,
   "id": "9e7732b5",
   "metadata": {
    "execution": {
     "iopub.execute_input": "2024-04-08T01:56:11.646142Z",
     "iopub.status.busy": "2024-04-08T01:56:11.645709Z",
     "iopub.status.idle": "2024-04-08T01:56:11.963489Z",
     "shell.execute_reply": "2024-04-08T01:56:11.962268Z"
    },
    "papermill": {
     "duration": 0.333058,
     "end_time": "2024-04-08T01:56:11.966092",
     "exception": false,
     "start_time": "2024-04-08T01:56:11.633034",
     "status": "completed"
    },
    "tags": []
   },
   "outputs": [
    {
     "name": "stdout",
     "output_type": "stream",
     "text": [
      "Status vs. Price (Outliers cut out)\n",
      "0 = Used \n",
      "1 = New\n"
     ]
    },
    {
     "data": {
      "image/png": "[encoded data removed]",
      "text/plain": [
       "<Figure size 640x480 with 1 Axes>"
      ]
     },
     "metadata": {},
     "output_type": "display_data"
    }
   ],
   "source": [
    "print(\"Status vs. Price (Outliers cut out)\")\n",
    "sns.boxplot(data = new_data.loc[new_data[\"Price\"] < 200000],x = \"Status\",y = \"Price\")\n",
    "print(\"0 = Used \\n1 = New\")"
   ]
  },
  {
   "cell_type": "code",
   "execution_count": 11,
   "id": "c75ea9ca",
   "metadata": {
    "execution": {
     "iopub.execute_input": "2024-04-08T01:56:11.990809Z",
     "iopub.status.busy": "2024-04-08T01:56:11.990297Z",
     "iopub.status.idle": "2024-04-08T01:56:12.856062Z",
     "shell.execute_reply": "2024-04-08T01:56:12.854551Z"
    },
    "papermill": {
     "duration": 0.881271,
     "end_time": "2024-04-08T01:56:12.858743",
     "exception": false,
     "start_time": "2024-04-08T01:56:11.977472",
     "status": "completed"
    },
    "tags": []
   },
   "outputs": [
    {
     "name": "stdout",
     "output_type": "stream",
     "text": [
      "Mileage vs. Price\n"
     ]
    },
    {
     "data": {
      "text/plain": [
       "<Axes: xlabel='Mileage', ylabel='Price'>"
      ]
     },
     "execution_count": 11,
     "metadata": {},
     "output_type": "execute_result"
    },
    {
     "data": {
      "image/png": "[encoded data removed]",
      "text/plain": [
       "<Figure size 640x480 with 1 Axes>"
      ]
     },
     "metadata": {},
     "output_type": "display_data"
    }
   ],
   "source": [
    "print(\"Mileage vs. Price\")\n",
    "sns.scatterplot(data = new_data.loc[new_data[\"Price\"] < 1000000],x = \"Mileage\",y = \"Price\")"
   ]
  },
  {
   "cell_type": "markdown",
   "id": "87e411e0",
   "metadata": {
    "execution": {
     "iopub.execute_input": "2024-04-05T03:27:05.312228Z",
     "iopub.status.busy": "2024-04-05T03:27:05.311838Z",
     "iopub.status.idle": "2024-04-05T03:27:05.355586Z",
     "shell.execute_reply": "2024-04-05T03:27:05.354483Z",
     "shell.execute_reply.started": "2024-04-05T03:27:05.312199Z"
    },
    "papermill": {
     "duration": 0.012387,
     "end_time": "2024-04-08T01:56:12.883797",
     "exception": false,
     "start_time": "2024-04-08T01:56:12.871410",
     "status": "completed"
    },
    "tags": []
   },
   "source": [
    "# Collecting Input"
   ]
  },
  {
   "cell_type": "code",
   "execution_count": 12,
   "id": "76d9351c",
   "metadata": {
    "execution": {
     "iopub.execute_input": "2024-04-08T01:56:12.911158Z",
     "iopub.status.busy": "2024-04-08T01:56:12.910716Z",
     "iopub.status.idle": "2024-04-08T01:56:12.953635Z",
     "shell.execute_reply": "2024-04-08T01:56:12.952115Z"
    },
    "papermill": {
     "duration": 0.060145,
     "end_time": "2024-04-08T01:56:12.956524",
     "exception": false,
     "start_time": "2024-04-08T01:56:12.896379",
     "status": "completed"
    },
    "tags": []
   },
   "outputs": [
    {
     "name": "stdout",
     "output_type": "stream",
     "text": [
      "what is your car's brand? Here are the brands:\n",
      "\n",
      "Mazda, Kia, Chevrolet, Ford, Acura, Volkswagen, GMC, BMW, Hyundai, Jeep, Dodge, Cadillac, Infiniti, Honda, Lexus, Toyota, Buick, Lincoln, MINI, RAM, Land Rover, Audi, Nissan, Mercedes, Porsche, Subaru, Jaguar, Tesla, Volvo\n",
      "\n",
      "If you car isn't in the list type \"other\"\n",
      "[5, 0, 53760]\n"
     ]
    }
   ],
   "source": [
    "try:\n",
    "    brands = ['mazda', 'kia', 'chevrolet', 'ford', 'acura', 'volkswagen', 'gmc', 'bmw', 'hyundai', 'jeep', 'dodge', 'cadillac', 'infiniti', 'honda', 'lexus', 'toyota', 'buick', 'lincoln', 'mini', 'ram', 'land rover', 'audi', 'nissan', 'mercedes', 'porsche', 'subaru', 'jaguar', 'tesla', 'volvo']\n",
    "    brandsStr = \"Mazda, Kia, Chevrolet, Ford, Acura, Volkswagen, GMC, BMW, Hyundai, Jeep, Dodge, Cadillac, Infiniti, Honda, Lexus, Toyota, Buick, Lincoln, MINI, RAM, Land Rover, Audi, Nissan, Mercedes, Porsche, Subaru, Jaguar, Tesla, Volvo\"\n",
    "    print(\"what is your car's brand? Here are the brands:\\n\")\n",
    "    print(brandsStr + \"\\n\")\n",
    "    print(\"If you car isn\\'t in the list type \\\"other\\\"\")\n",
    "    brand = input().lower()\n",
    "    if brand not in brands:\n",
    "        if brand != \"any\":\n",
    "            brand = \"other\"\n",
    "    if brand != \"any\":\n",
    "        brand_data = new_data.loc[new_data[\"Brand\"] == brand]\n",
    "\n",
    "    ans = []\n",
    "    #brand_data = brand_data.loc[brand_data[\"Price\"] != -1]\n",
    "    print(\"how many years ago was this car made?\")\n",
    "    while True:\n",
    "        inp = input()\n",
    "        try:\n",
    "            ans.append(int(inp))\n",
    "            break\n",
    "        except:\n",
    "            print(\"We didn\\'t get that, please try again\")\n",
    "    print(\"Is this car used? yes or no\")\n",
    "    while True:\n",
    "        inp = input()\n",
    "        if inp.lower() == \"yes\":\n",
    "            ans.append(0)\n",
    "            break\n",
    "        if inp.lower() == \"no\":\n",
    "            ans.append(1)\n",
    "            break\n",
    "        print(\"We didn\\'t get that, please try again\")\n",
    "    if ans[-1] == 1:\n",
    "        ans.append(0)\n",
    "    else:\n",
    "        print(\"How many miles is on the car?\")\n",
    "        while True:\n",
    "            inp = input()\n",
    "            try:\n",
    "                ans.append(int(inp))\n",
    "                break\n",
    "            except:\n",
    "                print(\"We didn\\'t get that, please try again\")\n",
    "except:\n",
    "    ans = [5, 0, 53760]\n",
    "    brand_data = new_data.loc[new_data[\"Brand\"] == \"honda\"]\n",
    "print(ans)"
   ]
  },
  {
   "cell_type": "markdown",
   "id": "2776eab7",
   "metadata": {
    "execution": {
     "iopub.execute_input": "2024-04-05T03:29:29.572991Z",
     "iopub.status.busy": "2024-04-05T03:29:29.572497Z",
     "iopub.status.idle": "2024-04-05T03:29:29.578987Z",
     "shell.execute_reply": "2024-04-05T03:29:29.577733Z",
     "shell.execute_reply.started": "2024-04-05T03:29:29.572948Z"
    },
    "papermill": {
     "duration": 0.012555,
     "end_time": "2024-04-08T01:56:12.981951",
     "exception": false,
     "start_time": "2024-04-08T01:56:12.969396",
     "status": "completed"
    },
    "tags": []
   },
   "source": [
    "# Building Model"
   ]
  },
  {
   "cell_type": "code",
   "execution_count": 13,
   "id": "5067a8e1",
   "metadata": {
    "execution": {
     "iopub.execute_input": "2024-04-08T01:56:13.011015Z",
     "iopub.status.busy": "2024-04-08T01:56:13.010371Z",
     "iopub.status.idle": "2024-04-08T01:56:13.425771Z",
     "shell.execute_reply": "2024-04-08T01:56:13.424590Z"
    },
    "papermill": {
     "duration": 0.433572,
     "end_time": "2024-04-08T01:56:13.428728",
     "exception": false,
     "start_time": "2024-04-08T01:56:12.995156",
     "status": "completed"
    },
    "tags": []
   },
   "outputs": [],
   "source": [
    "from sklearn.model_selection import train_test_split\n",
    "from sklearn.metrics import r2_score\n",
    "from sklearn.linear_model import LogisticRegression\n",
    "X = brand_data.loc[:,[\"Year\",\"Status\",\"Mileage\"]]\n",
    "Y = brand_data.loc[:,[\"Price\"]]"
   ]
  },
  {
   "cell_type": "code",
   "execution_count": 14,
   "id": "acecd118",
   "metadata": {
    "execution": {
     "iopub.execute_input": "2024-04-08T01:56:13.456789Z",
     "iopub.status.busy": "2024-04-08T01:56:13.456407Z",
     "iopub.status.idle": "2024-04-08T01:56:14.001872Z",
     "shell.execute_reply": "2024-04-08T01:56:14.000694Z"
    },
    "papermill": {
     "duration": 0.562467,
     "end_time": "2024-04-08T01:56:14.004659",
     "exception": false,
     "start_time": "2024-04-08T01:56:13.442192",
     "status": "completed"
    },
    "tags": []
   },
   "outputs": [
    {
     "name": "stdout",
     "output_type": "stream",
     "text": [
      "Estimated Accuracy: 25%\n",
      "Estimated Price for Decision Tree: $19998\n"
     ]
    }
   ],
   "source": [
    "from sklearn.tree import DecisionTreeClassifier as dtc\n",
    "trainX,testX,trainY,testY = train_test_split(X,Y,random_state = 2,test_size = .15)\n",
    "tree = dtc()\n",
    "tree.fit(trainX,trainY)\n",
    "results = tree.predict(testX)\n",
    "copy = testX\n",
    "copy.loc[len(testX.index)-1] = ans\n",
    "if r2_score(results,testY) < 0:\n",
    "    print(\"Estimated Accuracy: Unsure\")\n",
    "else:\n",
    "    print(\"Estimated Accuracy: \" + str(round(r2_score(results,testY) * 100)) + \"%\")\n",
    "results = list(tree.predict(copy))\n",
    "print(\"Estimated Price for Decision Tree: $\" + str(results[-1]))"
   ]
  },
  {
   "cell_type": "code",
   "execution_count": 15,
   "id": "a9571de0",
   "metadata": {
    "execution": {
     "iopub.execute_input": "2024-04-08T01:56:14.031946Z",
     "iopub.status.busy": "2024-04-08T01:56:14.031503Z",
     "iopub.status.idle": "2024-04-08T01:58:00.171530Z",
     "shell.execute_reply": "2024-04-08T01:58:00.170228Z"
    },
    "papermill": {
     "duration": 106.16908,
     "end_time": "2024-04-08T01:58:00.186405",
     "exception": false,
     "start_time": "2024-04-08T01:56:14.017325",
     "status": "completed"
    },
    "tags": []
   },
   "outputs": [
    {
     "name": "stderr",
     "output_type": "stream",
     "text": [
      "/opt/conda/lib/python3.10/site-packages/sklearn/utils/validation.py:1143: DataConversionWarning: A column-vector y was passed when a 1d array was expected. Please change the shape of y to (n_samples, ), for example using ravel().\n",
      "  y = column_or_1d(y, warn=True)\n"
     ]
    },
    {
     "name": "stdout",
     "output_type": "stream",
     "text": [
      "Estimated Accuracy: Unsure\n",
      "Estimated Price for SVM: $24500\n"
     ]
    }
   ],
   "source": [
    "from sklearn import svm\n",
    "trainX,testX,trainY,testY = train_test_split(X,Y,random_state = 2,test_size = .15)\n",
    "tree = svm.SVC()\n",
    "tree.fit(trainX,trainY)\n",
    "results = tree.predict(testX)\n",
    "copy = testX\n",
    "copy.loc[len(testX.index)-1] = ans\n",
    "if r2_score(results,testY) < 0:\n",
    "    print(\"Estimated Accuracy: Unsure\")\n",
    "else:\n",
    "    print(\"Estimated Accuracy: \" + str(round(r2_score(results,testY) * 100)) + \"%\")\n",
    "results = list(tree.predict(copy))\n",
    "print(\"Estimated Price for SVM: $\" + str(results[-1]))"
   ]
  },
  {
   "cell_type": "code",
   "execution_count": 16,
   "id": "4519cecf",
   "metadata": {
    "execution": {
     "iopub.execute_input": "2024-04-08T01:58:00.215799Z",
     "iopub.status.busy": "2024-04-08T01:58:00.214971Z",
     "iopub.status.idle": "2024-04-08T01:58:37.749986Z",
     "shell.execute_reply": "2024-04-08T01:58:37.738758Z"
    },
    "papermill": {
     "duration": 37.578312,
     "end_time": "2024-04-08T01:58:37.777540",
     "exception": false,
     "start_time": "2024-04-08T01:58:00.199228",
     "status": "completed"
    },
    "tags": []
   },
   "outputs": [
    {
     "name": "stderr",
     "output_type": "stream",
     "text": [
      "/opt/conda/lib/python3.10/site-packages/sklearn/utils/validation.py:1143: DataConversionWarning: A column-vector y was passed when a 1d array was expected. Please change the shape of y to (n_samples, ), for example using ravel().\n",
      "  y = column_or_1d(y, warn=True)\n"
     ]
    },
    {
     "name": "stdout",
     "output_type": "stream",
     "text": [
      "Estimated Accuracy: Unsure\n",
      "Estimated Price for Logistic Regression: $14995\n"
     ]
    },
    {
     "name": "stderr",
     "output_type": "stream",
     "text": [
      "/opt/conda/lib/python3.10/site-packages/sklearn/linear_model/_logistic.py:458: ConvergenceWarning: lbfgs failed to converge (status=1):\n",
      "STOP: TOTAL NO. of ITERATIONS REACHED LIMIT.\n",
      "\n",
      "Increase the number of iterations (max_iter) or scale the data as shown in:\n",
      "    https://scikit-learn.org/stable/modules/preprocessing.html\n",
      "Please also refer to the documentation for alternative solver options:\n",
      "    https://scikit-learn.org/stable/modules/linear_model.html#logistic-regression\n",
      "  n_iter_i = _check_optimize_result(\n"
     ]
    }
   ],
   "source": [
    "from sklearn import linear_model\n",
    "trainX,testX,trainY,testY = train_test_split(X,Y,random_state = 2,test_size = .15)\n",
    "tree = linear_model.LogisticRegression()\n",
    "tree.fit(trainX,trainY)\n",
    "results = tree.predict(testX)\n",
    "copy = testX\n",
    "copy.loc[len(testX.index)-1] = ans\n",
    "if r2_score(results,testY) < 0:\n",
    "    print(\"Estimated Accuracy: Unsure\")\n",
    "else:\n",
    "    print(\"Estimated Accuracy: \" + str(round(r2_score(results,testY) * 100)) + \"%\")\n",
    "results = list(tree.predict(copy))\n",
    "print(\"Estimated Price for Logistic Regression: $\" + str(results[-1]))"
   ]
  },
  {
   "cell_type": "code",
   "execution_count": null,
   "id": "379b2e51",
   "metadata": {
    "papermill": {
     "duration": 0.027146,
     "end_time": "2024-04-08T01:58:37.832134",
     "exception": false,
     "start_time": "2024-04-08T01:58:37.804988",
     "status": "completed"
    },
    "tags": []
   },
   "outputs": [],
   "source": []
  }
 ],
 "metadata": {
  "kaggle": {
   "accelerator": "none",
   "dataSources": [
    {
     "datasetId": 2237552,
     "sourceId": 3743513,
     "sourceType": "datasetVersion"
    },
    {
     "datasetId": 3847525,
     "sourceId": 7993024,
     "sourceType": "datasetVersion"
    }
   ],
   "dockerImageVersionId": 30673,
   "isGpuEnabled": false,
   "isInternetEnabled": true,
   "language": "python",
   "sourceType": "notebook"
  },
  "kernelspec": {
   "display_name": "Python 3",
   "language": "python",
   "name": "python3"
  },
  "language_info": {
   "codemirror_mode": {
    "name": "ipython",
    "version": 3
   },
   "file_extension": ".py",
   "mimetype": "text/x-python",
   "name": "python",
   "nbconvert_exporter": "python",
   "pygments_lexer": "ipython3",
   "version": "3.10.13"
  },
  "papermill": {
   "default_parameters": {},
   "duration": 160.343992,
   "end_time": "2024-04-08T01:58:38.574938",
   "environment_variables": {},
   "exception": null,
   "input_path": "__notebook__.ipynb",
   "output_path": "__notebook__.ipynb",
   "parameters": {},
   "start_time": "2024-04-08T01:55:58.230946",
   "version": "2.5.0"
  }
 },
 "nbformat": 4,
 "nbformat_minor": 5
}
