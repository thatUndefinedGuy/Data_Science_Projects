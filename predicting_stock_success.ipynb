{
 "cells": [
  {
   "cell_type": "markdown",
   "metadata": {},
   "source": [
    "# Predicting Stock Success Using Tensorflow"
   ]
  },
  {
   "cell_type": "markdown",
   "metadata": {},
   "source": [
    "### Basic Imports"
   ]
  },
  {
   "cell_type": "code",
   "execution_count": 8,
   "metadata": {},
   "outputs": [],
   "source": [
    "import pandas as pd #Data Frames\n",
    "import numpy as np #Calulations \n",
    "\n",
    "import yfinance as yf #API for Stock prices"
   ]
  },
  {
   "cell_type": "markdown",
   "metadata": {},
   "source": [
    "### Data Collection"
   ]
  },
  {
   "cell_type": "code",
   "execution_count": 9,
   "metadata": {},
   "outputs": [
    {
     "data": {
      "text/html": [
       "<div>\n",
       "<style scoped>\n",
       "    .dataframe tbody tr th:only-of-type {\n",
       "        vertical-align: middle;\n",
       "    }\n",
       "\n",
       "    .dataframe tbody tr th {\n",
       "        vertical-align: top;\n",
       "    }\n",
       "\n",
       "    .dataframe thead th {\n",
       "        text-align: right;\n",
       "    }\n",
       "</style>\n",
       "<table border=\"1\" class=\"dataframe\">\n",
       "  <thead>\n",
       "    <tr style=\"text-align: right;\">\n",
       "      <th></th>\n",
       "      <th>Symbol</th>\n",
       "      <th>Name</th>\n",
       "      <th>Last Sale</th>\n",
       "      <th>Net Change</th>\n",
       "      <th>% Change</th>\n",
       "      <th>Market Cap</th>\n",
       "      <th>Country</th>\n",
       "      <th>IPO Year</th>\n",
       "      <th>Volume</th>\n",
       "      <th>Sector</th>\n",
       "      <th>Industry</th>\n",
       "    </tr>\n",
       "  </thead>\n",
       "  <tbody>\n",
       "    <tr>\n",
       "      <th>0</th>\n",
       "      <td>A</td>\n",
       "      <td>Agilent Technologies Inc. Common Stock</td>\n",
       "      <td>$154.08</td>\n",
       "      <td>2.8000</td>\n",
       "      <td>1.851%</td>\n",
       "      <td>4.515396e+10</td>\n",
       "      <td>United States</td>\n",
       "      <td>1999.0</td>\n",
       "      <td>1524628</td>\n",
       "      <td>Industrials</td>\n",
       "      <td>Electrical Products</td>\n",
       "    </tr>\n",
       "    <tr>\n",
       "      <th>1</th>\n",
       "      <td>AA</td>\n",
       "      <td>Alcoa Corporation Common Stock</td>\n",
       "      <td>$40.04</td>\n",
       "      <td>0.2100</td>\n",
       "      <td>0.527%</td>\n",
       "      <td>7.189570e+09</td>\n",
       "      <td>United States</td>\n",
       "      <td>2016.0</td>\n",
       "      <td>5689146</td>\n",
       "      <td>Industrials</td>\n",
       "      <td>Aluminum</td>\n",
       "    </tr>\n",
       "    <tr>\n",
       "      <th>3</th>\n",
       "      <td>AACI</td>\n",
       "      <td>Armada Acquisition Corp. I Common Stock</td>\n",
       "      <td>$11.37</td>\n",
       "      <td>-0.0300</td>\n",
       "      <td>-0.263%</td>\n",
       "      <td>0.000000e+00</td>\n",
       "      <td>United States</td>\n",
       "      <td>2021.0</td>\n",
       "      <td>31365</td>\n",
       "      <td>Finance</td>\n",
       "      <td>Blank Checks</td>\n",
       "    </tr>\n",
       "    <tr>\n",
       "      <th>4</th>\n",
       "      <td>AACIU</td>\n",
       "      <td>Armada Acquisition Corp. I Unit</td>\n",
       "      <td>$11.43</td>\n",
       "      <td>0.3200</td>\n",
       "      <td>2.88%</td>\n",
       "      <td>0.000000e+00</td>\n",
       "      <td>United States</td>\n",
       "      <td>2021.0</td>\n",
       "      <td>100</td>\n",
       "      <td>Finance</td>\n",
       "      <td>Blank Checks</td>\n",
       "    </tr>\n",
       "    <tr>\n",
       "      <th>5</th>\n",
       "      <td>AACIW</td>\n",
       "      <td>Armada Acquisition Corp. I Warrant</td>\n",
       "      <td>$0.12</td>\n",
       "      <td>-0.0101</td>\n",
       "      <td>-7.763%</td>\n",
       "      <td>0.000000e+00</td>\n",
       "      <td>United States</td>\n",
       "      <td>2021.0</td>\n",
       "      <td>6669</td>\n",
       "      <td>Finance</td>\n",
       "      <td>Blank Checks</td>\n",
       "    </tr>\n",
       "  </tbody>\n",
       "</table>\n",
       "</div>"
      ],
      "text/plain": [
       "  Symbol                                     Name Last Sale  Net Change  \\\n",
       "0      A   Agilent Technologies Inc. Common Stock   $154.08      2.8000   \n",
       "1     AA          Alcoa Corporation Common Stock     $40.04      0.2100   \n",
       "3   AACI  Armada Acquisition Corp. I Common Stock    $11.37     -0.0300   \n",
       "4  AACIU          Armada Acquisition Corp. I Unit    $11.43      0.3200   \n",
       "5  AACIW       Armada Acquisition Corp. I Warrant     $0.12     -0.0101   \n",
       "\n",
       "  % Change    Market Cap        Country  IPO Year   Volume       Sector  \\\n",
       "0   1.851%  4.515396e+10  United States    1999.0  1524628  Industrials   \n",
       "1   0.527%  7.189570e+09  United States    2016.0  5689146  Industrials   \n",
       "3  -0.263%  0.000000e+00  United States    2021.0    31365      Finance   \n",
       "4    2.88%  0.000000e+00  United States    2021.0      100      Finance   \n",
       "5  -7.763%  0.000000e+00  United States    2021.0     6669      Finance   \n",
       "\n",
       "              Industry  \n",
       "0  Electrical Products  \n",
       "1             Aluminum  \n",
       "3         Blank Checks  \n",
       "4         Blank Checks  \n",
       "5         Blank Checks  "
      ]
     },
     "execution_count": 9,
     "metadata": {},
     "output_type": "execute_result"
    }
   ],
   "source": [
    "#Yfinance has no list for tickers that I can use. I will have to make my own list, taking from NASDAQ\n",
    "\n",
    "\n",
    "#This is the website where I dowloaded the CSV file:\n",
    "#https://www.nasdaq.com/market-activity/stocks/screener\n",
    "data = pd.read_csv(\"C:\\\\Users\\\\Total\\\\OneDrive\\\\Desktop\\\\yfinanceProject\\\\nasdaq_screener_1715809493768.csv\")\n",
    "data = data.loc[data[\"Country\"] == \"United States\"] #Selecting Comanies based in the USA to put less stress on the model.\n",
    "new_data = list(data[\"Symbol\"]) # this is the column with the tickers.\n",
    "\n",
    "data.head(5)"
   ]
  },
  {
   "cell_type": "markdown",
   "metadata": {},
   "source": [
    "### Data Processing"
   ]
  },
  {
   "cell_type": "code",
   "execution_count": 10,
   "metadata": {},
   "outputs": [],
   "source": [
    "def normalize(l):\n",
    "    \"\"\"\n",
    "    l: (list) \n",
    "    This function simplifies all the values to a decimal between 0 and 1.\n",
    "    This lets the model treat data from a huge company and a smaller company the same.\n",
    "    \"\"\"\n",
    "    lbound = np.min(l)\n",
    "    tbound = np.max(l)\n",
    "    ans = (l - lbound) / (tbound - lbound) #this is the method I am using to normalize the data. It is called min max normalization.\n",
    "    ans = np.round(ans * 100)\n",
    "    ans = ans / 100\n",
    "    return ans"
   ]
  },
  {
   "cell_type": "markdown",
   "metadata": {},
   "source": [
    "</p>The computer will take two years from the stock data as training data, and the last year to determine if it was successfull or not. </p>\n",
    "<p>To use this model, we can input the last two years or 503 busness days to output how well the computer thinks the stock will do.</p>"
   ]
  },
  {
   "cell_type": "code",
   "execution_count": 11,
   "metadata": {},
   "outputs": [
    {
     "name": "stdout",
     "output_type": "stream",
     "text": [
      "0/5483 100/5483 200/5483 300/5483 400/5483 500/5483 600/5483 700/5483 800/5483 900/5483 1000/5483 \n",
      "1100/5483 "
     ]
    },
    {
     "name": "stderr",
     "output_type": "stream",
     "text": [
      "CNFRZ: Period '3y' is invalid, must be one of ['1d', '5d']\n"
     ]
    },
    {
     "name": "stdout",
     "output_type": "stream",
     "text": [
      "1200/5483 1300/5483 1400/5483 1500/5483 "
     ]
    },
    {
     "name": "stderr",
     "output_type": "stream",
     "text": [
      "EAI: Period '3y' is invalid, must be one of ['1d', '5d', '1mo', '3mo', '6mo', '1y', '2y', '5y', '10y', 'ytd', 'max']\n"
     ]
    },
    {
     "name": "stdout",
     "output_type": "stream",
     "text": [
      "1600/5483 "
     ]
    },
    {
     "name": "stderr",
     "output_type": "stream",
     "text": [
      "EMCGR: Period '3y' is invalid, must be one of ['1d', '5d']\n",
      "EMP: Period '3y' is invalid, must be one of ['1d', '5d', '1mo', '3mo', '6mo', '1y', '2y', '5y', '10y', 'ytd', 'max']\n"
     ]
    },
    {
     "name": "stdout",
     "output_type": "stream",
     "text": [
      "1700/5483 "
     ]
    },
    {
     "name": "stderr",
     "output_type": "stream",
     "text": [
      "ESHAR: Period '3y' is invalid, must be one of ['1d', '5d']\n"
     ]
    },
    {
     "name": "stdout",
     "output_type": "stream",
     "text": [
      "1800/5483 1900/5483 "
     ]
    },
    {
     "name": "stderr",
     "output_type": "stream",
     "text": [
      "FLFVR: Period '3y' is invalid, must be one of ['1d', '5d']\n"
     ]
    },
    {
     "name": "stdout",
     "output_type": "stream",
     "text": [
      "2000/5483 \n"
     ]
    },
    {
     "name": "stderr",
     "output_type": "stream",
     "text": [
      "GBBKR: Period '3y' is invalid, must be one of ['1d', '5d']\n",
      "GECCZ: Period '3y' is invalid, must be one of ['1d', '5d']\n"
     ]
    },
    {
     "name": "stdout",
     "output_type": "stream",
     "text": [
      "2100/5483 "
     ]
    },
    {
     "name": "stderr",
     "output_type": "stream",
     "text": [
      "GLLIR: Period '3y' is invalid, must be one of ['1d', '5d']\n"
     ]
    },
    {
     "name": "stdout",
     "output_type": "stream",
     "text": [
      "2200/5483 2300/5483 2400/5483 "
     ]
    },
    {
     "name": "stderr",
     "output_type": "stream",
     "text": [
      "IBACR: Period '3y' is invalid, must be one of ['1d', '5d']\n"
     ]
    },
    {
     "name": "stdout",
     "output_type": "stream",
     "text": [
      "2500/5483 2600/5483 2700/5483 2800/5483 2900/5483 3000/5483 \n",
      "3100/5483 3200/5483 3300/5483 3400/5483 3500/5483 3600/5483 3700/5483 3800/5483 3900/5483 4000/5483 \n",
      "4100/5483 4200/5483 4300/5483 4400/5483 4500/5483 4600/5483 4700/5483 4800/5483 4900/5483 5000/5483 \n",
      "5100/5483 5200/5483 5300/5483 5400/5483 "
     ]
    }
   ],
   "source": [
    "blacklist = [\"ECC           \",\"IGTAR\",\"IROHR\",\"MARXR\",\"MCAGR\",\"MSSAR\",\"NNAGR\",\"PLTNR\",\"QETAR\",\"RWODR\",\"SFB\",\"TENKR\",\"TMTCR\",\"WINVR\",\"WTMAR\"] \n",
    "#these are tickers that are in the NASDAQ CSV file but not in yfinance\n",
    "\n",
    "graphs = [] #where Stock history goes\n",
    "tickers = [] #stores the tickers\n",
    "answers = [] #this list holds ones for stocks that went up and zeros for stocks that went down\n",
    "\n",
    "for x,i in enumerate(new_data): \n",
    "    #prints out progress through the stocks\n",
    "    if x % 100 == 0:\n",
    "        print(str(x) + \"/\" + str(len(new_data)), end = \" \")\n",
    "        if x % 1000 == 0 and x != 0:\n",
    "            print(\"\")\n",
    "    \n",
    "    #feeds data into the lists.\n",
    "    try:\n",
    "        if \"^\" in i or \"/\" in i or str(i) in blacklist:\n",
    "            #filtering through stocks not in yfinance\n",
    "            continue\n",
    "        curr_data = yf.Ticker(str(i)).history(period=\"3y\")\n",
    "        if len(list(curr_data[\"High\"])) >=756 and not True in np.isnan(list(curr_data[\"High\"])):\n",
    "            #checks if the stock is old enough and not bugged\n",
    "            graphs.append(normalize(np.array(curr_data[\"High\"])[0:503]))\n",
    "            temp_data = normalize(list(curr_data[\"High\"]))\n",
    "            if temp_data[-503] * 1.2  < temp_data[-1]:\n",
    "                answers.append(1)\n",
    "            else:\n",
    "                answers.append(0)\n",
    "        tickers.append(i)\n",
    "    except:\n",
    "        print(\"Something went wrong!\")\n",
    "graphs = np.array(graphs)\n",
    "answers = np.array(answers)"
   ]
  },
  {
   "cell_type": "markdown",
   "metadata": {},
   "source": [
    "### Data Visualization"
   ]
  },
  {
   "cell_type": "markdown",
   "metadata": {},
   "source": [
    "Specific data presentation"
   ]
  },
  {
   "cell_type": "code",
   "execution_count": 14,
   "metadata": {},
   "outputs": [
    {
     "name": "stdout",
     "output_type": "stream",
     "text": [
      "The blue line is what the computer gets to determine the success of the stock. The orange is what the computer does not see.\n",
      "This paticular test case would tell the computer to invest, as the orange line ends above where it started.\n",
      "We will tell the computer that this stock is not good to invest\n",
      "Stock at the start of the year: 10.25 Stock at the end of the year: 11.45989990234375\n"
     ]
    },
    {
     "data": {
      "image/png": "[encoded data removed]",
      "text/plain": [
       "<Figure size 640x480 with 1 Axes>"
      ]
     },
     "metadata": {},
     "output_type": "display_data"
    }
   ],
   "source": [
    "#this shows training data and result\n",
    "import seaborn as sns\n",
    "example = 2\n",
    "#change this to see other graphs\n",
    "vis_data = yf.Ticker(str(new_data[example])).history(\"3y\")\n",
    "vis_data = pd.DataFrame(vis_data).reset_index()[\"High\"]\n",
    "vis_data = vis_data.reset_index()\n",
    "data = (([0] * 503) + ([1] * 252))[0:len(list(vis_data[\"High\"]))]\n",
    "vis_data[\"half\"] = data\n",
    "sns.lineplot(data = vis_data,x = \"index\",y = \"High\",hue = \"half\")\n",
    "print(\"The blue line is what the computer gets to determine the success of the stock. The orange is what the computer does not see.\\nThis paticular test case would tell the computer to invest, as the orange line ends above where it started.\")\n",
    "temp_data = list(vis_data[\"High\"])\n",
    "if temp_data[-252]  > temp_data[-1]:\n",
    "    print(\"We will tell the computer that this stock is good to invest\")\n",
    "else:\n",
    "    print(\"We will tell the computer that this stock is not good to invest\")\n",
    "print(\"Stock at the start of the year: \" + str(temp_data[-252]) , \"Stock at the end of the year: \" + str(temp_data[-1]))"
   ]
  },
  {
   "cell_type": "markdown",
   "metadata": {},
   "source": [
    "Veiw a random graph"
   ]
  },
  {
   "cell_type": "code",
   "execution_count": 16,
   "metadata": {},
   "outputs": [
    {
     "name": "stdout",
     "output_type": "stream",
     "text": [
      "Ticker for this graph: OCCIN\n",
      "1 to invest 0 to not invest: 1\n"
     ]
    },
    {
     "data": {
      "image/png": "[encoded data removed]",
      "text/plain": [
       "<Figure size 640x480 with 1 Axes>"
      ]
     },
     "metadata": {},
     "output_type": "display_data"
    }
   ],
   "source": [
    "import seaborn as sns\n",
    "import random\n",
    "example = random.randint(0,len(graphs)-2)\n",
    "graph_data = pd.DataFrame(graphs[example]).reset_index().rename(columns = {\"index\":\"count\",0: \"cost\"})\n",
    "plot = sns.lineplot(data = graph_data,x = \"count\",y = \"cost\")\n",
    "print(\"Ticker for this graph: \" + tickers[example])\n",
    "print(\"1 to invest 0 to not invest: \" + str(answers[example]))\n"
   ]
  },
  {
   "cell_type": "markdown",
   "metadata": {},
   "source": [
    "### Training model"
   ]
  },
  {
   "cell_type": "code",
   "execution_count": 17,
   "metadata": {},
   "outputs": [],
   "source": [
    "X = graphs #all avalibe training data\n",
    "y = np.array(answers) # all answers for the training data\n",
    "\n",
    "#using sklearn to split the data\n",
    "import sklearn\n",
    "from sklearn.model_selection import train_test_split \n",
    "Xtrain, Xtest, Ytrain, ytest = train_test_split(X,y,random_state=28,test_size=.1)\n",
    "#training input, testing input, training output, testing expected output"
   ]
  },
  {
   "cell_type": "code",
   "execution_count": 18,
   "metadata": {},
   "outputs": [],
   "source": [
    "import tensorflow as tf\n",
    "from tensorflow.keras.models import Sequential\n",
    "from tensorflow.keras.layers import Dense\n",
    "#nural network for the model\n",
    "model = Sequential([\n",
    "    tf.keras.Input(shape=(503,)),\n",
    "    #size of array for two years\n",
    "    Dense(50,activation= \"relu\"),\n",
    "    Dense(20,activation = \"relu\"),\n",
    "    Dense(10,activation = \"relu\"),\n",
    "    Dense(1,activation = \"sigmoid\")\n",
    "])\n",
    "\n",
    "model.compile(\n",
    "    loss = tf.keras.losses.BinaryCrossentropy(),\n",
    "    #answers with 0 to 1\n",
    "    optimizer = tf.keras.optimizers.Adam(learning_rate = 0.01)\n",
    ")"
   ]
  },
  {
   "cell_type": "code",
   "execution_count": 19,
   "metadata": {},
   "outputs": [
    {
     "name": "stdout",
     "output_type": "stream",
     "text": [
      "Epoch 1/20\n",
      "\u001b[1m128/128\u001b[0m \u001b[32m━━━━━━━━━━━━━━━━━━━━\u001b[0m\u001b[37m\u001b[0m \u001b[1m1s\u001b[0m 1ms/step - loss: 0.6217\n",
      "Epoch 2/20\n",
      "\u001b[1m128/128\u001b[0m \u001b[32m━━━━━━━━━━━━━━━━━━━━\u001b[0m\u001b[37m\u001b[0m \u001b[1m0s\u001b[0m 1ms/step - loss: 0.5326\n",
      "Epoch 3/20\n",
      "\u001b[1m128/128\u001b[0m \u001b[32m━━━━━━━━━━━━━━━━━━━━\u001b[0m\u001b[37m\u001b[0m \u001b[1m0s\u001b[0m 1ms/step - loss: 0.4997\n",
      "Epoch 4/20\n",
      "\u001b[1m128/128\u001b[0m \u001b[32m━━━━━━━━━━━━━━━━━━━━\u001b[0m\u001b[37m\u001b[0m \u001b[1m0s\u001b[0m 3ms/step - loss: 0.4954\n",
      "Epoch 5/20\n",
      "\u001b[1m128/128\u001b[0m \u001b[32m━━━━━━━━━━━━━━━━━━━━\u001b[0m\u001b[37m\u001b[0m \u001b[1m0s\u001b[0m 1ms/step - loss: 0.4889\n",
      "Epoch 6/20\n",
      "\u001b[1m128/128\u001b[0m \u001b[32m━━━━━━━━━━━━━━━━━━━━\u001b[0m\u001b[37m\u001b[0m \u001b[1m0s\u001b[0m 1ms/step - loss: 0.4933\n",
      "Epoch 7/20\n",
      "\u001b[1m128/128\u001b[0m \u001b[32m━━━━━━━━━━━━━━━━━━━━\u001b[0m\u001b[37m\u001b[0m \u001b[1m0s\u001b[0m 1ms/step - loss: 0.4696\n",
      "Epoch 8/20\n",
      "\u001b[1m128/128\u001b[0m \u001b[32m━━━━━━━━━━━━━━━━━━━━\u001b[0m\u001b[37m\u001b[0m \u001b[1m0s\u001b[0m 1ms/step - loss: 0.4779\n",
      "Epoch 9/20\n",
      "\u001b[1m128/128\u001b[0m \u001b[32m━━━━━━━━━━━━━━━━━━━━\u001b[0m\u001b[37m\u001b[0m \u001b[1m0s\u001b[0m 1ms/step - loss: 0.4706\n",
      "Epoch 10/20\n",
      "\u001b[1m128/128\u001b[0m \u001b[32m━━━━━━━━━━━━━━━━━━━━\u001b[0m\u001b[37m\u001b[0m \u001b[1m0s\u001b[0m 1ms/step - loss: 0.4682\n",
      "Epoch 11/20\n",
      "\u001b[1m128/128\u001b[0m \u001b[32m━━━━━━━━━━━━━━━━━━━━\u001b[0m\u001b[37m\u001b[0m \u001b[1m0s\u001b[0m 1ms/step - loss: 0.4611\n",
      "Epoch 12/20\n",
      "\u001b[1m128/128\u001b[0m \u001b[32m━━━━━━━━━━━━━━━━━━━━\u001b[0m\u001b[37m\u001b[0m \u001b[1m0s\u001b[0m 1ms/step - loss: 0.4555\n",
      "Epoch 13/20\n",
      "\u001b[1m128/128\u001b[0m \u001b[32m━━━━━━━━━━━━━━━━━━━━\u001b[0m\u001b[37m\u001b[0m \u001b[1m0s\u001b[0m 1ms/step - loss: 0.4659\n",
      "Epoch 14/20\n",
      "\u001b[1m128/128\u001b[0m \u001b[32m━━━━━━━━━━━━━━━━━━━━\u001b[0m\u001b[37m\u001b[0m \u001b[1m0s\u001b[0m 1ms/step - loss: 0.4549\n",
      "Epoch 15/20\n",
      "\u001b[1m128/128\u001b[0m \u001b[32m━━━━━━━━━━━━━━━━━━━━\u001b[0m\u001b[37m\u001b[0m \u001b[1m0s\u001b[0m 2ms/step - loss: 0.4594\n",
      "Epoch 16/20\n",
      "\u001b[1m128/128\u001b[0m \u001b[32m━━━━━━━━━━━━━━━━━━━━\u001b[0m\u001b[37m\u001b[0m \u001b[1m0s\u001b[0m 1ms/step - loss: 0.4648\n",
      "Epoch 17/20\n",
      "\u001b[1m128/128\u001b[0m \u001b[32m━━━━━━━━━━━━━━━━━━━━\u001b[0m\u001b[37m\u001b[0m \u001b[1m0s\u001b[0m 1ms/step - loss: 0.4411\n",
      "Epoch 18/20\n",
      "\u001b[1m128/128\u001b[0m \u001b[32m━━━━━━━━━━━━━━━━━━━━\u001b[0m\u001b[37m\u001b[0m \u001b[1m0s\u001b[0m 1ms/step - loss: 0.4553\n",
      "Epoch 19/20\n",
      "\u001b[1m128/128\u001b[0m \u001b[32m━━━━━━━━━━━━━━━━━━━━\u001b[0m\u001b[37m\u001b[0m \u001b[1m0s\u001b[0m 1ms/step - loss: 0.4585\n",
      "Epoch 20/20\n",
      "\u001b[1m128/128\u001b[0m \u001b[32m━━━━━━━━━━━━━━━━━━━━\u001b[0m\u001b[37m\u001b[0m \u001b[1m0s\u001b[0m 1ms/step - loss: 0.4581\n"
     ]
    },
    {
     "data": {
      "text/plain": [
       "<keras.src.callbacks.history.History at 0x13f3de22b10>"
      ]
     },
     "execution_count": 19,
     "metadata": {},
     "output_type": "execute_result"
    }
   ],
   "source": [
    "model.fit(X,y,epochs = 20)\n",
    "#training model"
   ]
  },
  {
   "cell_type": "code",
   "execution_count": 1,
   "metadata": {},
   "outputs": [
    {
     "name": "stdout",
     "output_type": "stream",
     "text": [
      "(1 is best 0 is worst)\n",
      "0.25250674655244965\n",
      "due to the complexity of this topic, and the little training examples, the correlation is still low.\n"
     ]
    }
   ],
   "source": [
    "predictions = model.predict(Xtest)\n",
    "simplified_predictions = []\n",
    "for i in predictions:\n",
    "    if i >= .5:\n",
    "        simplified_predictions.append(1)\n",
    "    else:\n",
    "        simplified_predictions.append(0)\n",
    "\n",
    "#seeing how accurate the results are\n",
    "from sklearn.metrics import mean as r2\n",
    "print(\"(1 is best 0 is worst)\")\n",
    "print(r2(ytest,simplified_predictions))\n",
    "print(\"due to the complexity of this topic, and the little training examples, the correlation is still low.\")"
   ]
  },
  {
   "cell_type": "code",
   "execution_count": 26,
   "metadata": {},
   "outputs": [],
   "source": [
    "model.save_weights(\"stockPrediction.weights.h5\")"
   ]
  },
  {
   "cell_type": "markdown",
   "metadata": {},
   "source": [
    "### Using Model"
   ]
  },
  {
   "cell_type": "code",
   "execution_count": 27,
   "metadata": {},
   "outputs": [
    {
     "data": {
      "text/html": [
       "<div>\n",
       "<style scoped>\n",
       "    .dataframe tbody tr th:only-of-type {\n",
       "        vertical-align: middle;\n",
       "    }\n",
       "\n",
       "    .dataframe tbody tr th {\n",
       "        vertical-align: top;\n",
       "    }\n",
       "\n",
       "    .dataframe thead th {\n",
       "        text-align: right;\n",
       "    }\n",
       "</style>\n",
       "<table border=\"1\" class=\"dataframe\">\n",
       "  <thead>\n",
       "    <tr style=\"text-align: right;\">\n",
       "      <th></th>\n",
       "      <th>Symbol</th>\n",
       "      <th>Name</th>\n",
       "      <th>Last Sale</th>\n",
       "      <th>Net Change</th>\n",
       "      <th>% Change</th>\n",
       "      <th>Market Cap</th>\n",
       "      <th>Country</th>\n",
       "      <th>IPO Year</th>\n",
       "      <th>Volume</th>\n",
       "      <th>Sector</th>\n",
       "      <th>Industry</th>\n",
       "    </tr>\n",
       "  </thead>\n",
       "  <tbody>\n",
       "    <tr>\n",
       "      <th>1</th>\n",
       "      <td>AA</td>\n",
       "      <td>Alcoa Corporation Common Stock</td>\n",
       "      <td>$40.04</td>\n",
       "      <td>0.21</td>\n",
       "      <td>0.527%</td>\n",
       "      <td>7.189570e+09</td>\n",
       "      <td>United States</td>\n",
       "      <td>2016.0</td>\n",
       "      <td>5689146</td>\n",
       "      <td>Industrials</td>\n",
       "      <td>Aluminum</td>\n",
       "    </tr>\n",
       "    <tr>\n",
       "      <th>10</th>\n",
       "      <td>AAL</td>\n",
       "      <td>American Airlines Group Inc. Common Stock</td>\n",
       "      <td>$14.94</td>\n",
       "      <td>-0.25</td>\n",
       "      <td>-1.646%</td>\n",
       "      <td>9.801990e+09</td>\n",
       "      <td>United States</td>\n",
       "      <td>NaN</td>\n",
       "      <td>25950400</td>\n",
       "      <td>Consumer Discretionary</td>\n",
       "      <td>Air Freight/Delivery Services</td>\n",
       "    </tr>\n",
       "    <tr>\n",
       "      <th>17</th>\n",
       "      <td>AAPL</td>\n",
       "      <td>Apple Inc. Common Stock</td>\n",
       "      <td>$189.72</td>\n",
       "      <td>2.29</td>\n",
       "      <td>1.222%</td>\n",
       "      <td>2.909182e+12</td>\n",
       "      <td>United States</td>\n",
       "      <td>1980.0</td>\n",
       "      <td>70310350</td>\n",
       "      <td>Technology</td>\n",
       "      <td>Computer Manufacturing</td>\n",
       "    </tr>\n",
       "    <tr>\n",
       "      <th>21</th>\n",
       "      <td>ABBV</td>\n",
       "      <td>AbbVie Inc. Common Stock</td>\n",
       "      <td>$163.79</td>\n",
       "      <td>2.20</td>\n",
       "      <td>1.361%</td>\n",
       "      <td>2.892315e+11</td>\n",
       "      <td>United States</td>\n",
       "      <td>2012.0</td>\n",
       "      <td>5260544</td>\n",
       "      <td>Health Care</td>\n",
       "      <td>Biotechnology: Pharmaceutical Preparations</td>\n",
       "    </tr>\n",
       "    <tr>\n",
       "      <th>33</th>\n",
       "      <td>ABNB</td>\n",
       "      <td>Airbnb Inc. Class A Common Stock</td>\n",
       "      <td>$145.80</td>\n",
       "      <td>-0.90</td>\n",
       "      <td>-0.613%</td>\n",
       "      <td>9.390159e+10</td>\n",
       "      <td>United States</td>\n",
       "      <td>2020.0</td>\n",
       "      <td>5993342</td>\n",
       "      <td>Finance</td>\n",
       "      <td>Diversified Commercial Services</td>\n",
       "    </tr>\n",
       "  </tbody>\n",
       "</table>\n",
       "</div>"
      ],
      "text/plain": [
       "   Symbol                                       Name Last Sale  Net Change  \\\n",
       "1      AA            Alcoa Corporation Common Stock     $40.04        0.21   \n",
       "10    AAL  American Airlines Group Inc. Common Stock    $14.94       -0.25   \n",
       "17   AAPL                    Apple Inc. Common Stock   $189.72        2.29   \n",
       "21   ABBV                   AbbVie Inc. Common Stock   $163.79        2.20   \n",
       "33   ABNB           Airbnb Inc. Class A Common Stock   $145.80       -0.90   \n",
       "\n",
       "   % Change    Market Cap        Country  IPO Year    Volume  \\\n",
       "1    0.527%  7.189570e+09  United States    2016.0   5689146   \n",
       "10  -1.646%  9.801990e+09  United States       NaN  25950400   \n",
       "17   1.222%  2.909182e+12  United States    1980.0  70310350   \n",
       "21   1.361%  2.892315e+11  United States    2012.0   5260544   \n",
       "33  -0.613%  9.390159e+10  United States    2020.0   5993342   \n",
       "\n",
       "                    Sector                                    Industry  \n",
       "1              Industrials                                    Aluminum  \n",
       "10  Consumer Discretionary               Air Freight/Delivery Services  \n",
       "17              Technology                      Computer Manufacturing  \n",
       "21             Health Care  Biotechnology: Pharmaceutical Preparations  \n",
       "33                 Finance             Diversified Commercial Services  "
      ]
     },
     "execution_count": 27,
     "metadata": {},
     "output_type": "execute_result"
    }
   ],
   "source": [
    "#redownloading data\n",
    "data = pd.read_csv(\"C:\\\\Users\\\\Total\\\\OneDrive\\\\Desktop\\\\yfinanceProject\\\\nasdaq_screener_1715809493768.csv\")\n",
    "data = data.loc[data[\"Country\"] == \"United States\"]\n",
    "new_data = list(data[\"Symbol\"])\n",
    "\n",
    "#Filering companies that have a Volume less than 2000000 \n",
    "data = data.loc[data[\"Volume\"] > 2000000]\n",
    "data.head(5)"
   ]
  },
  {
   "cell_type": "code",
   "execution_count": 28,
   "metadata": {},
   "outputs": [],
   "source": [
    "tickers_to_test = np.array(list(data[\"Symbol\"]))\n",
    "graphs = []\n",
    "#Collecting data to use the model\n",
    "for i in tickers_to_test[0:100]:\n",
    "    if \"^\" in i or \"/\" in i:\n",
    "        continue\n",
    "    #getting last two years\n",
    "    temp = yf.Ticker(str(i)).history(\"2y\")[\"High\"]\n",
    "    if True in np.isnan(temp) or len(temp) != 503:\n",
    "        continue\n",
    "    temp = np.array(normalize(temp))\n",
    "    graphs.append(temp)\n",
    "\n",
    "graphs = np.array(graphs)"
   ]
  },
  {
   "cell_type": "code",
   "execution_count": null,
   "metadata": {},
   "outputs": [
    {
     "name": "stdout",
     "output_type": "stream",
     "text": [
      "\u001b[1m3/3\u001b[0m \u001b[32m━━━━━━━━━━━━━━━━━━━━\u001b[0m\u001b[37m\u001b[0m \u001b[1m0s\u001b[0m 2ms/step \n",
      "      result company\n",
      "17  0.948855    AEMD\n",
      "24  0.927075      AI\n",
      "35  0.900430     ALT\n",
      "38  0.919594     AMC\n",
      "43  0.919527    AMWL\n",
      "46  0.934614    ANNX\n",
      "56  0.913695      AR\n",
      "63  0.913651    ASTI\n",
      "65  0.943256    ATEC\n",
      "67  0.912821     AUR\n",
      "69  0.942167    AVTR\n",
      "79  0.942745     BBY\n",
      "82  0.938996      BE\n"
     ]
    }
   ],
   "source": [
    "#predicting...\n",
    "results = model.predict(graphs)\n",
    "\n",
    "tickers_tested = tickers_to_test[0:93]\n",
    "final_data = pd.DataFrame(results)\n",
    "final_data[\"company\"] = tickers_tested\n",
    "final_data = final_data.rename(columns={0:\"result\"})\n",
    "#printing all stocks that the model is 90% sure will bring profit\n",
    "print(final_data.loc[final_data[\"result\"] > .9])"
   ]
  },
  {
   "cell_type": "markdown",
   "metadata": {},
   "source": [
    "### Conclusion:\n",
    "\n",
    "<p>It looks like the computer has confidence in these stocks:</p>\n",
    "<ul>\n",
    "    <li>Aethlon Medical $0.40</li>\n",
    "    <li>C3.ai Inc $26.39</li>\n",
    "    <li>Altimmune Inc $8.01</li>\n",
    "    <li>AMC Entertainment Holdings Inc $4.40</li>\n",
    "    <li>American Well Corp $0.49</li>\n",
    "    <li>Antero Resources Corp $35.00</li>\n",
    "    <li>Aurora Innovation Inc $2.74 </li>\n",
    "    <li>Avantor Inc $24.99</li>\n",
    "</ul>\n",
    "<p>The date I am writing this, it is 5/17/24.  To see how well I did, I will revisit this notebook in a year and add up all the money I would have earned/lost.</p>"
   ]
  },
  {
   "cell_type": "markdown",
   "metadata": {},
   "source": [
    "------------------------------------------------------------\n",
    "\n",
    "5/17/25"
   ]
  },
  {
   "cell_type": "markdown",
   "metadata": {},
   "source": []
  }
 ],
 "metadata": {
  "kernelspec": {
   "display_name": "Python 3",
   "language": "python",
   "name": "python3"
  },
  "language_info": {
   "codemirror_mode": {
    "name": "ipython",
    "version": 3
   },
   "file_extension": ".py",
   "mimetype": "text/x-python",
   "name": "python",
   "nbconvert_exporter": "python",
   "pygments_lexer": "ipython3",
   "version": "3.11.4"
  }
 },
 "nbformat": 4,
 "nbformat_minor": 2
}
